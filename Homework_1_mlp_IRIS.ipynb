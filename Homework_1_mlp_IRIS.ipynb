{
  "nbformat": 4,
  "nbformat_minor": 0,
  "metadata": {
    "kernelspec": {
      "display_name": "tensorflow",
      "language": "python",
      "name": "tensorflow"
    },
    "language_info": {
      "codemirror_mode": {
        "name": "ipython",
        "version": 3
      },
      "file_extension": ".py",
      "mimetype": "text/x-python",
      "name": "python",
      "nbconvert_exporter": "python",
      "pygments_lexer": "ipython3",
      "version": "3.6.8"
    },
    "colab": {
      "name": "ex1_1_mlp_iris.ipynb",
      "provenance": [],
      "collapsed_sections": []
    },
    "accelerator": "GPU"
  },
  "cells": [
    {
      "cell_type": "markdown",
      "metadata": {
        "id": "a9GfmfTqhBtM"
      },
      "source": [
        "<center><div style=\"direction:rtl;font-family:B Lotus, B Nazanin, Tahoma\">به نام خدا</div></center>\n",
        "\n",
        "<h1><center><div style=\"direction:rtl;font-family:B Lotus, B Nazanin, Tahoma\">تمرین عملی 1: طبقه بندی با شبکه های تمام متصل روی مجموعه داده IRIS</div></center></h1>"
      ]
    },
    {
      "cell_type": "code",
      "metadata": {
        "id": "2U5Kf-ARvmNB"
      },
      "source": [
        ""
      ],
      "execution_count": null,
      "outputs": []
    },
    {
      "cell_type": "markdown",
      "metadata": {
        "id": "wTupR-qXhBtN"
      },
      "source": [
        "## <div style=\"direction:rtl;text-align:right;font-family:B Lotus, B Nazanin, Tahoma\">صورت مساله</div>\n",
        "\n",
        "\n",
        "<div style=\"direction:rtl;text-align:right;font-family:Tahoma\">\n",
        "در اولین جلسه کارگاه طبقه بندی با شبکه های تمام متصل را دیدیم.\n",
        "<br>\n",
        "توصیه می‌شود حتما نوت بوک‌های زیر را قبل از این تمرین مرور کنید:\n",
        "</div>\n",
        "\n",
        "[04_a Gentle Introduction to Keras - Simple neural network(mlp).ipynb](https://nbviewer.jupyter.org/github/alireza-akhavan/SRU-deeplearning-workshop/blob/master/04_a%20Gentle%20Introduction%20to%20Keras%20-%20Simple%20neural%20network%28mlp%29.ipynb)\n",
        "\n",
        "[05_Dropout.ipynb](https://nbviewer.jupyter.org/github/alireza-akhavan/SRU-deeplearning-workshop/blob/master/05_Dropout.ipynb)\n",
        "\n",
        "<div style=\"direction:rtl;text-align:right;font-family:Tahoma\">\n",
        "در این جلسه با داده های تصویری آشنا شدیم. اما در این تمرین برای اینکه بدانیم کاربرد این مباحث در مسائل غیر تصویری نیز هست  از مجموعه داده ی ساختار یافتهiris  شامل 4 ویژگی برای طول و عرض کاسبرگ و گلبرگ استفاده خواهیم کرد که بتوانیم بر اساس این ویژگی ها نوع گل را از 3 کلاس متفاوت تشخیص دهیم.\n",
        "</div>"
      ]
    },
    {
      "cell_type": "markdown",
      "metadata": {
        "id": "eKCgKtHuhBtO"
      },
      "source": [
        "## <div style=\"direction:rtl;text-align:right;font-family:B Lotus, B Nazanin, Tahoma\">لود کتابخانه های مورد نیاز </div>\n",
        "<div style=\"direction:rtl;text-align:right;font-family:Tahoma\">\n",
        "کتابخانه های مورد نیاز این تمرین لود شده اند\n",
        "<br>\n",
        "در صورت نیاز میتوانید کتابخانه های بیشتری لود کنید:\n",
        "</div>"
      ]
    },
    {
      "cell_type": "code",
      "metadata": {
        "id": "K6QhqVdRhBtP"
      },
      "source": [
        "import numpy as np\n",
        "import keras\n",
        "from sklearn.datasets import load_iris\n",
        "from sklearn.model_selection import train_test_split\n",
        "from keras.models import Sequential\n",
        "from keras import layers\n",
        "from keras.layers import Dense, Dropout\n",
        "from keras.optimizers import Adam"
      ],
      "execution_count": null,
      "outputs": []
    },
    {
      "cell_type": "markdown",
      "metadata": {
        "id": "9KMZFMtlhBtW"
      },
      "source": [
        "<div style=\"direction:rtl;text-align:right;font-family:Tahoma\">\n",
        "در این تمرین میخواهیم از مجموعه داده iris استفاده کنیم.\n",
        "<br>\n",
        "توضیحات این مجموعه داده در سایت آن موجود است:\n",
        "</div>\n",
        "\n",
        "https://archive.ics.uci.edu/ml/datasets/iris\n",
        "\n",
        "\n",
        "<div style=\"direction:rtl;text-align:right;font-family:Tahoma\">\n",
        "ویژگی ها و کلاس های این مجموعه داده به شرح زیر است:\n",
        "</div>\n",
        "\n",
        "Attribute Information:\n",
        "\n",
        "1. sepal length in cm\n",
        "2. sepal width in cm\n",
        "3. petal length in cm\n",
        "4. petal width in cm\n",
        "\n",
        "class:\n",
        "\n",
        "    Iris Setosa\n",
        "    Iris Versicolour\n",
        "    Iris Virginica\n",
        "\n",
        "<div style=\"direction:rtl;text-align:right;font-family:Tahoma\">\n",
        "این دیتاست در کتابخانه sklearn موجود است\n",
        "<br>\n",
        "در قطعه کد زیر ویژگی ها را در x و برچسب یا labelهای متناظر را در y لود شده است.\n",
        "</div>"
      ]
    },
    {
      "cell_type": "code",
      "metadata": {
        "id": "i5j9gHTAhBtX"
      },
      "source": [
        "iris_data = load_iris() # load the iris dataset\n",
        "x = iris_data.data\n",
        "y = iris_data.target.reshape(-1, 1) # Convert data to a single column"
      ],
      "execution_count": null,
      "outputs": []
    },
    {
      "cell_type": "code",
      "metadata": {
        "id": "I08B8xt1h7ad",
        "colab": {
          "base_uri": "https://localhost:8080/"
        },
        "outputId": "d9c43243-de24-4725-bb44-9289cc59ae3f"
      },
      "source": [
        "x.shape"
      ],
      "execution_count": null,
      "outputs": [
        {
          "output_type": "execute_result",
          "data": {
            "text/plain": [
              "(150, 4)"
            ]
          },
          "metadata": {
            "tags": []
          },
          "execution_count": 4
        }
      ]
    },
    {
      "cell_type": "code",
      "metadata": {
        "id": "vyhZgczfiL8J",
        "colab": {
          "base_uri": "https://localhost:8080/"
        },
        "outputId": "47494ed4-70ad-47a9-8005-b300d990f2be"
      },
      "source": [
        "y.shape"
      ],
      "execution_count": null,
      "outputs": [
        {
          "output_type": "execute_result",
          "data": {
            "text/plain": [
              "(150, 1)"
            ]
          },
          "metadata": {
            "tags": []
          },
          "execution_count": 5
        }
      ]
    },
    {
      "cell_type": "markdown",
      "metadata": {
        "id": "oI8a3N4ShBtb"
      },
      "source": [
        "# <div style=\"direction:rtl;text-align:right;font-family:B Lotus, B Nazanin, Tahoma\">سوال 1:</div>\n",
        "<div style=\"direction:rtl;text-align:right;font-family:Tahoma\">\n",
        "برچسب یا label های ما در حال حاضر عددی است.\n",
        "<br>\n",
        "این اعداد 0 تا 2 هستند و به عبارتی 3 حالت مختلف دارند.\n",
        "<br>\n",
        "این برچسب ها را به فرمت one-hot تبدیل کنید و خروجی را مجدد در y بریزید.\n",
        "\n",
        "<br>\n",
        "<b>راهنمایی: </b>\n",
        "از تابع keras.utils.to_categorical استفاده کنید.\n",
        "</div>"
      ]
    },
    {
      "cell_type": "code",
      "metadata": {
        "id": "DyRUmDd3hBtc"
      },
      "source": [
        "y = keras.utils.to_categorical(y, num_classes=3) #change one hot encoder"
      ],
      "execution_count": null,
      "outputs": []
    },
    {
      "cell_type": "code",
      "metadata": {
        "id": "yKCyVcXMoZRM",
        "colab": {
          "base_uri": "https://localhost:8080/"
        },
        "outputId": "dd08e38c-b30e-4eeb-e727-0eb9f590a8c4"
      },
      "source": [
        "y.shape"
      ],
      "execution_count": null,
      "outputs": [
        {
          "output_type": "execute_result",
          "data": {
            "text/plain": [
              "(150, 3)"
            ]
          },
          "metadata": {
            "tags": []
          },
          "execution_count": 7
        }
      ]
    },
    {
      "cell_type": "markdown",
      "metadata": {
        "id": "u8cgAAl9hBtg"
      },
      "source": [
        "<div style=\"direction:rtl;text-align:right;font-family:Tahoma\">\n",
        "در زیر داده ها  به داده های test و train تقسیم شده است:\n",
        "</div>"
      ]
    },
    {
      "cell_type": "code",
      "metadata": {
        "id": "FHgLRw3IhBth"
      },
      "source": [
        "# Split the data for training and testing\n",
        "train_x, test_x, train_y, test_y = train_test_split(x, y, test_size=0.20)"
      ],
      "execution_count": null,
      "outputs": []
    },
    {
      "cell_type": "markdown",
      "metadata": {
        "id": "2jDbdYvRhBtm"
      },
      "source": [
        "# <div style=\"direction:rtl;text-align:right;font-family:B Lotus, B Nazanin, Tahoma\">سوال 2:</div>\n",
        "<div style=\"direction:rtl;text-align:right;font-family:Tahoma\">\n",
        "یک شبکه با دو hidden-layer در هر لایه 10 نوران و تابع فعالیت relu بسازید. یک لایه Dropout با نرخ 0.5 در لایه آخر ماقبل softmax نیز اضافه کنید.\n",
        "</div>"
      ]
    },
    {
      "cell_type": "code",
      "metadata": {
        "id": "imaD5VhXhBto"
      },
      "source": [
        "# Build the model\n",
        "model = Sequential()\n",
        "model.add(layers.Dense(10, activation='relu',input_dim=4))\n",
        "model.add(layers.Dense(10, activation='relu'))\n",
        "model.add(Dropout(0.5))\n",
        "model.add(layers.Dense(3, activation='softmax'))"
      ],
      "execution_count": null,
      "outputs": []
    },
    {
      "cell_type": "code",
      "metadata": {
        "id": "pQsZiA2chBts",
        "colab": {
          "base_uri": "https://localhost:8080/"
        },
        "outputId": "99656b36-dd92-4e69-b14a-76b7a34af4e7"
      },
      "source": [
        "model.summary()"
      ],
      "execution_count": null,
      "outputs": [
        {
          "output_type": "stream",
          "text": [
            "Model: \"sequential\"\n",
            "_________________________________________________________________\n",
            "Layer (type)                 Output Shape              Param #   \n",
            "=================================================================\n",
            "dense (Dense)                (None, 10)                50        \n",
            "_________________________________________________________________\n",
            "dense_1 (Dense)              (None, 10)                110       \n",
            "_________________________________________________________________\n",
            "dropout (Dropout)            (None, 10)                0         \n",
            "_________________________________________________________________\n",
            "dense_2 (Dense)              (None, 3)                 33        \n",
            "=================================================================\n",
            "Total params: 193\n",
            "Trainable params: 193\n",
            "Non-trainable params: 0\n",
            "_________________________________________________________________\n"
          ],
          "name": "stdout"
        }
      ]
    },
    {
      "cell_type": "markdown",
      "metadata": {
        "id": "Lp1fVkPshBtx"
      },
      "source": [
        "<div style=\"direction:rtl;text-align:right;font-family:Tahoma\">در زیر مدل کامپایل شده است.</div>"
      ]
    },
    {
      "cell_type": "code",
      "metadata": {
        "id": "zErHtWX_hBtz"
      },
      "source": [
        "# Adam optimizer with learning rate of 0.001\n",
        "optimizer = Adam(lr=0.001) #lr=learning rate\n",
        "model.compile(optimizer, loss='categorical_crossentropy', metrics=['accuracy'])"
      ],
      "execution_count": null,
      "outputs": []
    },
    {
      "cell_type": "markdown",
      "metadata": {
        "id": "uqsK5BrBhBt6"
      },
      "source": [
        "# <div style=\"direction:rtl;text-align:right;font-family:B Lotus, B Nazanin, Tahoma\">سوال 3:</div>\n",
        "<div style=\"direction:rtl;text-align:right;font-family:Tahoma\">\n",
        "مدل را با  batch_size=5 و تعداد 200 ایپاک آموزش دهید.\n",
        "<br>\n",
        "<b>راهنمایی: </b>\n",
        "از تابع model.fit استفاده کنید.\n",
        "</div>"
      ]
    },
    {
      "cell_type": "code",
      "metadata": {
        "id": "PAZv6tu0hBt7",
        "colab": {
          "base_uri": "https://localhost:8080/"
        },
        "outputId": "95b44e6e-d642-4352-a676-1bcf17e45b24"
      },
      "source": [
        "# Train the model\n",
        "model.fit(train_x, train_y,\n",
        "          epochs=200,\n",
        "          batch_size=5)   "
      ],
      "execution_count": null,
      "outputs": [
        {
          "output_type": "stream",
          "text": [
            "Epoch 1/200\n",
            "24/24 [==============================] - 0s 3ms/step - loss: 0.2750 - accuracy: 0.8833\n",
            "Epoch 2/200\n",
            "24/24 [==============================] - 0s 3ms/step - loss: 0.1976 - accuracy: 0.9333\n",
            "Epoch 3/200\n",
            "24/24 [==============================] - 0s 3ms/step - loss: 0.2739 - accuracy: 0.8583\n",
            "Epoch 4/200\n",
            "24/24 [==============================] - 0s 3ms/step - loss: 0.2241 - accuracy: 0.8750\n",
            "Epoch 5/200\n",
            "24/24 [==============================] - 0s 3ms/step - loss: 0.2054 - accuracy: 0.9083\n",
            "Epoch 6/200\n",
            "24/24 [==============================] - 0s 3ms/step - loss: 0.2448 - accuracy: 0.8833\n",
            "Epoch 7/200\n",
            "24/24 [==============================] - 0s 3ms/step - loss: 0.2236 - accuracy: 0.9083\n",
            "Epoch 8/200\n",
            "24/24 [==============================] - 0s 3ms/step - loss: 0.2417 - accuracy: 0.9000\n",
            "Epoch 9/200\n",
            "24/24 [==============================] - 0s 3ms/step - loss: 0.1959 - accuracy: 0.9167\n",
            "Epoch 10/200\n",
            "24/24 [==============================] - 0s 2ms/step - loss: 0.1729 - accuracy: 0.9250\n",
            "Epoch 11/200\n",
            "24/24 [==============================] - 0s 3ms/step - loss: 0.2395 - accuracy: 0.8917\n",
            "Epoch 12/200\n",
            "24/24 [==============================] - 0s 2ms/step - loss: 0.1925 - accuracy: 0.8917\n",
            "Epoch 13/200\n",
            "24/24 [==============================] - 0s 2ms/step - loss: 0.2400 - accuracy: 0.9000\n",
            "Epoch 14/200\n",
            "24/24 [==============================] - 0s 3ms/step - loss: 0.1556 - accuracy: 0.9250\n",
            "Epoch 15/200\n",
            "24/24 [==============================] - 0s 3ms/step - loss: 0.2484 - accuracy: 0.8917\n",
            "Epoch 16/200\n",
            "24/24 [==============================] - 0s 3ms/step - loss: 0.2150 - accuracy: 0.9167\n",
            "Epoch 17/200\n",
            "24/24 [==============================] - 0s 3ms/step - loss: 0.1981 - accuracy: 0.9083\n",
            "Epoch 18/200\n",
            "24/24 [==============================] - 0s 3ms/step - loss: 0.2550 - accuracy: 0.8583\n",
            "Epoch 19/200\n",
            "24/24 [==============================] - 0s 3ms/step - loss: 0.2249 - accuracy: 0.9083\n",
            "Epoch 20/200\n",
            "24/24 [==============================] - 0s 3ms/step - loss: 0.2129 - accuracy: 0.9083\n",
            "Epoch 21/200\n",
            "24/24 [==============================] - 0s 3ms/step - loss: 0.1918 - accuracy: 0.9250\n",
            "Epoch 22/200\n",
            "24/24 [==============================] - 0s 3ms/step - loss: 0.2180 - accuracy: 0.8917\n",
            "Epoch 23/200\n",
            "24/24 [==============================] - 0s 3ms/step - loss: 0.1945 - accuracy: 0.9250\n",
            "Epoch 24/200\n",
            "24/24 [==============================] - 0s 3ms/step - loss: 0.2295 - accuracy: 0.9000\n",
            "Epoch 25/200\n",
            "24/24 [==============================] - 0s 3ms/step - loss: 0.2125 - accuracy: 0.9083\n",
            "Epoch 26/200\n",
            "24/24 [==============================] - 0s 3ms/step - loss: 0.2130 - accuracy: 0.9083\n",
            "Epoch 27/200\n",
            "24/24 [==============================] - 0s 5ms/step - loss: 0.1950 - accuracy: 0.9083\n",
            "Epoch 28/200\n",
            "24/24 [==============================] - 0s 3ms/step - loss: 0.2310 - accuracy: 0.9000\n",
            "Epoch 29/200\n",
            "24/24 [==============================] - 0s 3ms/step - loss: 0.2405 - accuracy: 0.8750\n",
            "Epoch 30/200\n",
            "24/24 [==============================] - 0s 3ms/step - loss: 0.1724 - accuracy: 0.9083\n",
            "Epoch 31/200\n",
            "24/24 [==============================] - 0s 3ms/step - loss: 0.1831 - accuracy: 0.9250\n",
            "Epoch 32/200\n",
            "24/24 [==============================] - 0s 3ms/step - loss: 0.2385 - accuracy: 0.8917\n",
            "Epoch 33/200\n",
            "24/24 [==============================] - 0s 3ms/step - loss: 0.2428 - accuracy: 0.8750\n",
            "Epoch 34/200\n",
            "24/24 [==============================] - 0s 3ms/step - loss: 0.1984 - accuracy: 0.8833\n",
            "Epoch 35/200\n",
            "24/24 [==============================] - 0s 3ms/step - loss: 0.2104 - accuracy: 0.8917\n",
            "Epoch 36/200\n",
            "24/24 [==============================] - 0s 3ms/step - loss: 0.1968 - accuracy: 0.9083\n",
            "Epoch 37/200\n",
            "24/24 [==============================] - 0s 3ms/step - loss: 0.2050 - accuracy: 0.9167\n",
            "Epoch 38/200\n",
            "24/24 [==============================] - 0s 3ms/step - loss: 0.1930 - accuracy: 0.9333\n",
            "Epoch 39/200\n",
            "24/24 [==============================] - 0s 3ms/step - loss: 0.1848 - accuracy: 0.9167\n",
            "Epoch 40/200\n",
            "24/24 [==============================] - 0s 3ms/step - loss: 0.1207 - accuracy: 0.9583\n",
            "Epoch 41/200\n",
            "24/24 [==============================] - 0s 3ms/step - loss: 0.1506 - accuracy: 0.9583\n",
            "Epoch 42/200\n",
            "24/24 [==============================] - 0s 3ms/step - loss: 0.1924 - accuracy: 0.9167\n",
            "Epoch 43/200\n",
            "24/24 [==============================] - 0s 3ms/step - loss: 0.2684 - accuracy: 0.8667\n",
            "Epoch 44/200\n",
            "24/24 [==============================] - 0s 3ms/step - loss: 0.2071 - accuracy: 0.9167\n",
            "Epoch 45/200\n",
            "24/24 [==============================] - 0s 3ms/step - loss: 0.2321 - accuracy: 0.8833\n",
            "Epoch 46/200\n",
            "24/24 [==============================] - 0s 3ms/step - loss: 0.1961 - accuracy: 0.9000\n",
            "Epoch 47/200\n",
            "24/24 [==============================] - 0s 3ms/step - loss: 0.1706 - accuracy: 0.9250\n",
            "Epoch 48/200\n",
            "24/24 [==============================] - 0s 3ms/step - loss: 0.1567 - accuracy: 0.9250\n",
            "Epoch 49/200\n",
            "24/24 [==============================] - 0s 3ms/step - loss: 0.1909 - accuracy: 0.9083\n",
            "Epoch 50/200\n",
            "24/24 [==============================] - 0s 3ms/step - loss: 0.1870 - accuracy: 0.9333\n",
            "Epoch 51/200\n",
            "24/24 [==============================] - 0s 3ms/step - loss: 0.1724 - accuracy: 0.9250\n",
            "Epoch 52/200\n",
            "24/24 [==============================] - 0s 3ms/step - loss: 0.1664 - accuracy: 0.9417\n",
            "Epoch 53/200\n",
            "24/24 [==============================] - 0s 2ms/step - loss: 0.2286 - accuracy: 0.9000\n",
            "Epoch 54/200\n",
            "24/24 [==============================] - 0s 2ms/step - loss: 0.2130 - accuracy: 0.9000\n",
            "Epoch 55/200\n",
            "24/24 [==============================] - 0s 2ms/step - loss: 0.1868 - accuracy: 0.9083\n",
            "Epoch 56/200\n",
            "24/24 [==============================] - 0s 3ms/step - loss: 0.1857 - accuracy: 0.8917\n",
            "Epoch 57/200\n",
            "24/24 [==============================] - 0s 3ms/step - loss: 0.1990 - accuracy: 0.9000\n",
            "Epoch 58/200\n",
            "24/24 [==============================] - 0s 3ms/step - loss: 0.1909 - accuracy: 0.8917\n",
            "Epoch 59/200\n",
            "24/24 [==============================] - 0s 3ms/step - loss: 0.1386 - accuracy: 0.9583\n",
            "Epoch 60/200\n",
            "24/24 [==============================] - 0s 3ms/step - loss: 0.2280 - accuracy: 0.8583\n",
            "Epoch 61/200\n",
            "24/24 [==============================] - 0s 3ms/step - loss: 0.2100 - accuracy: 0.9000\n",
            "Epoch 62/200\n",
            "24/24 [==============================] - 0s 3ms/step - loss: 0.1762 - accuracy: 0.9250\n",
            "Epoch 63/200\n",
            "24/24 [==============================] - 0s 3ms/step - loss: 0.2014 - accuracy: 0.8917\n",
            "Epoch 64/200\n",
            "24/24 [==============================] - 0s 2ms/step - loss: 0.1848 - accuracy: 0.9250\n",
            "Epoch 65/200\n",
            "24/24 [==============================] - 0s 3ms/step - loss: 0.1880 - accuracy: 0.9250\n",
            "Epoch 66/200\n",
            "24/24 [==============================] - 0s 2ms/step - loss: 0.2132 - accuracy: 0.8833\n",
            "Epoch 67/200\n",
            "24/24 [==============================] - 0s 3ms/step - loss: 0.2326 - accuracy: 0.9167\n",
            "Epoch 68/200\n",
            "24/24 [==============================] - 0s 3ms/step - loss: 0.1703 - accuracy: 0.9250\n",
            "Epoch 69/200\n",
            "24/24 [==============================] - 0s 3ms/step - loss: 0.2278 - accuracy: 0.9000\n",
            "Epoch 70/200\n",
            "24/24 [==============================] - 0s 3ms/step - loss: 0.1823 - accuracy: 0.9167\n",
            "Epoch 71/200\n",
            "24/24 [==============================] - 0s 3ms/step - loss: 0.1653 - accuracy: 0.9250\n",
            "Epoch 72/200\n",
            "24/24 [==============================] - 0s 3ms/step - loss: 0.2255 - accuracy: 0.8917\n",
            "Epoch 73/200\n",
            "24/24 [==============================] - 0s 3ms/step - loss: 0.1740 - accuracy: 0.9250\n",
            "Epoch 74/200\n",
            "24/24 [==============================] - 0s 2ms/step - loss: 0.1592 - accuracy: 0.9250\n",
            "Epoch 75/200\n",
            "24/24 [==============================] - 0s 1ms/step - loss: 0.1836 - accuracy: 0.9083\n",
            "Epoch 76/200\n",
            "24/24 [==============================] - 0s 2ms/step - loss: 0.1626 - accuracy: 0.9333\n",
            "Epoch 77/200\n",
            "24/24 [==============================] - 0s 1ms/step - loss: 0.1768 - accuracy: 0.9417\n",
            "Epoch 78/200\n",
            "24/24 [==============================] - 0s 2ms/step - loss: 0.1828 - accuracy: 0.9167\n",
            "Epoch 79/200\n",
            "24/24 [==============================] - 0s 2ms/step - loss: 0.1932 - accuracy: 0.9083\n",
            "Epoch 80/200\n",
            "24/24 [==============================] - 0s 1ms/step - loss: 0.1537 - accuracy: 0.9250\n",
            "Epoch 81/200\n",
            "24/24 [==============================] - 0s 2ms/step - loss: 0.1689 - accuracy: 0.9500\n",
            "Epoch 82/200\n",
            "24/24 [==============================] - 0s 2ms/step - loss: 0.1851 - accuracy: 0.9333\n",
            "Epoch 83/200\n",
            "24/24 [==============================] - 0s 2ms/step - loss: 0.1812 - accuracy: 0.9333\n",
            "Epoch 84/200\n",
            "24/24 [==============================] - 0s 1ms/step - loss: 0.2069 - accuracy: 0.8667\n",
            "Epoch 85/200\n",
            "24/24 [==============================] - 0s 2ms/step - loss: 0.1450 - accuracy: 0.9500\n",
            "Epoch 86/200\n",
            "24/24 [==============================] - 0s 2ms/step - loss: 0.1937 - accuracy: 0.9167\n",
            "Epoch 87/200\n",
            "24/24 [==============================] - 0s 1ms/step - loss: 0.1557 - accuracy: 0.9500\n",
            "Epoch 88/200\n",
            "24/24 [==============================] - 0s 1ms/step - loss: 0.1689 - accuracy: 0.9250\n",
            "Epoch 89/200\n",
            "24/24 [==============================] - 0s 1ms/step - loss: 0.2244 - accuracy: 0.9000\n",
            "Epoch 90/200\n",
            "24/24 [==============================] - 0s 2ms/step - loss: 0.2145 - accuracy: 0.9083\n",
            "Epoch 91/200\n",
            "24/24 [==============================] - 0s 1ms/step - loss: 0.1878 - accuracy: 0.9250\n",
            "Epoch 92/200\n",
            "24/24 [==============================] - 0s 1ms/step - loss: 0.1847 - accuracy: 0.9167\n",
            "Epoch 93/200\n",
            "24/24 [==============================] - 0s 2ms/step - loss: 0.2132 - accuracy: 0.9083\n",
            "Epoch 94/200\n",
            "24/24 [==============================] - 0s 2ms/step - loss: 0.1894 - accuracy: 0.9417\n",
            "Epoch 95/200\n",
            "24/24 [==============================] - 0s 2ms/step - loss: 0.2019 - accuracy: 0.9000\n",
            "Epoch 96/200\n",
            "24/24 [==============================] - 0s 2ms/step - loss: 0.1896 - accuracy: 0.9083\n",
            "Epoch 97/200\n",
            "24/24 [==============================] - 0s 2ms/step - loss: 0.1687 - accuracy: 0.9333\n",
            "Epoch 98/200\n",
            "24/24 [==============================] - 0s 2ms/step - loss: 0.1938 - accuracy: 0.9000\n",
            "Epoch 99/200\n",
            "24/24 [==============================] - 0s 2ms/step - loss: 0.1831 - accuracy: 0.9333\n",
            "Epoch 100/200\n",
            "24/24 [==============================] - 0s 1ms/step - loss: 0.1911 - accuracy: 0.8917\n",
            "Epoch 101/200\n",
            "24/24 [==============================] - 0s 1ms/step - loss: 0.1998 - accuracy: 0.8833\n",
            "Epoch 102/200\n",
            "24/24 [==============================] - 0s 2ms/step - loss: 0.1935 - accuracy: 0.9167\n",
            "Epoch 103/200\n",
            "24/24 [==============================] - 0s 2ms/step - loss: 0.2149 - accuracy: 0.9000\n",
            "Epoch 104/200\n",
            "24/24 [==============================] - 0s 2ms/step - loss: 0.1443 - accuracy: 0.9583\n",
            "Epoch 105/200\n",
            "24/24 [==============================] - 0s 2ms/step - loss: 0.1835 - accuracy: 0.9167\n",
            "Epoch 106/200\n",
            "24/24 [==============================] - 0s 2ms/step - loss: 0.1626 - accuracy: 0.9333\n",
            "Epoch 107/200\n",
            "24/24 [==============================] - 0s 1ms/step - loss: 0.1320 - accuracy: 0.9667\n",
            "Epoch 108/200\n",
            "24/24 [==============================] - 0s 2ms/step - loss: 0.1720 - accuracy: 0.9333\n",
            "Epoch 109/200\n",
            "24/24 [==============================] - 0s 2ms/step - loss: 0.1775 - accuracy: 0.9167\n",
            "Epoch 110/200\n",
            "24/24 [==============================] - 0s 2ms/step - loss: 0.1935 - accuracy: 0.9167\n",
            "Epoch 111/200\n",
            "24/24 [==============================] - 0s 2ms/step - loss: 0.1956 - accuracy: 0.9083\n",
            "Epoch 112/200\n",
            "24/24 [==============================] - 0s 1ms/step - loss: 0.1545 - accuracy: 0.9417\n",
            "Epoch 113/200\n",
            "24/24 [==============================] - 0s 2ms/step - loss: 0.1858 - accuracy: 0.9250\n",
            "Epoch 114/200\n",
            "24/24 [==============================] - 0s 1ms/step - loss: 0.1792 - accuracy: 0.9250\n",
            "Epoch 115/200\n",
            "24/24 [==============================] - 0s 2ms/step - loss: 0.2169 - accuracy: 0.9167\n",
            "Epoch 116/200\n",
            "24/24 [==============================] - 0s 2ms/step - loss: 0.2055 - accuracy: 0.9000\n",
            "Epoch 117/200\n",
            "24/24 [==============================] - 0s 2ms/step - loss: 0.1901 - accuracy: 0.9417\n",
            "Epoch 118/200\n",
            "24/24 [==============================] - 0s 2ms/step - loss: 0.1985 - accuracy: 0.9000\n",
            "Epoch 119/200\n",
            "24/24 [==============================] - 0s 2ms/step - loss: 0.1709 - accuracy: 0.9250\n",
            "Epoch 120/200\n",
            "24/24 [==============================] - 0s 1ms/step - loss: 0.1626 - accuracy: 0.9417\n",
            "Epoch 121/200\n",
            "24/24 [==============================] - 0s 1ms/step - loss: 0.1973 - accuracy: 0.9000\n",
            "Epoch 122/200\n",
            "24/24 [==============================] - 0s 2ms/step - loss: 0.1899 - accuracy: 0.9167\n",
            "Epoch 123/200\n",
            "24/24 [==============================] - 0s 2ms/step - loss: 0.0943 - accuracy: 0.9583\n",
            "Epoch 124/200\n",
            "24/24 [==============================] - 0s 2ms/step - loss: 0.2193 - accuracy: 0.8833\n",
            "Epoch 125/200\n",
            "24/24 [==============================] - 0s 2ms/step - loss: 0.1760 - accuracy: 0.9000\n",
            "Epoch 126/200\n",
            "24/24 [==============================] - 0s 2ms/step - loss: 0.1350 - accuracy: 0.9417\n",
            "Epoch 127/200\n",
            "24/24 [==============================] - 0s 2ms/step - loss: 0.2168 - accuracy: 0.9000\n",
            "Epoch 128/200\n",
            "24/24 [==============================] - 0s 1ms/step - loss: 0.2122 - accuracy: 0.8917\n",
            "Epoch 129/200\n",
            "24/24 [==============================] - 0s 1ms/step - loss: 0.1553 - accuracy: 0.9250\n",
            "Epoch 130/200\n",
            "24/24 [==============================] - 0s 1ms/step - loss: 0.1657 - accuracy: 0.9083\n",
            "Epoch 131/200\n",
            "24/24 [==============================] - 0s 1ms/step - loss: 0.1648 - accuracy: 0.9500\n",
            "Epoch 132/200\n",
            "24/24 [==============================] - 0s 2ms/step - loss: 0.2025 - accuracy: 0.9000\n",
            "Epoch 133/200\n",
            "24/24 [==============================] - 0s 2ms/step - loss: 0.1636 - accuracy: 0.9417\n",
            "Epoch 134/200\n",
            "24/24 [==============================] - 0s 2ms/step - loss: 0.1564 - accuracy: 0.9417\n",
            "Epoch 135/200\n",
            "24/24 [==============================] - 0s 2ms/step - loss: 0.1498 - accuracy: 0.9583\n",
            "Epoch 136/200\n",
            "24/24 [==============================] - 0s 1ms/step - loss: 0.1935 - accuracy: 0.9250\n",
            "Epoch 137/200\n",
            "24/24 [==============================] - 0s 2ms/step - loss: 0.2174 - accuracy: 0.8917\n",
            "Epoch 138/200\n",
            "24/24 [==============================] - 0s 2ms/step - loss: 0.1259 - accuracy: 0.9500\n",
            "Epoch 139/200\n",
            "24/24 [==============================] - 0s 2ms/step - loss: 0.1806 - accuracy: 0.9417\n",
            "Epoch 140/200\n",
            "24/24 [==============================] - 0s 2ms/step - loss: 0.2191 - accuracy: 0.8833\n",
            "Epoch 141/200\n",
            "24/24 [==============================] - 0s 2ms/step - loss: 0.1760 - accuracy: 0.9083\n",
            "Epoch 142/200\n",
            "24/24 [==============================] - 0s 2ms/step - loss: 0.1485 - accuracy: 0.9333\n",
            "Epoch 143/200\n",
            "24/24 [==============================] - 0s 2ms/step - loss: 0.1694 - accuracy: 0.9417\n",
            "Epoch 144/200\n",
            "24/24 [==============================] - 0s 3ms/step - loss: 0.2404 - accuracy: 0.8917\n",
            "Epoch 145/200\n",
            "24/24 [==============================] - 0s 2ms/step - loss: 0.1670 - accuracy: 0.9083\n",
            "Epoch 146/200\n",
            "24/24 [==============================] - 0s 2ms/step - loss: 0.2172 - accuracy: 0.9083\n",
            "Epoch 147/200\n",
            "24/24 [==============================] - 0s 2ms/step - loss: 0.1947 - accuracy: 0.9250\n",
            "Epoch 148/200\n",
            "24/24 [==============================] - 0s 2ms/step - loss: 0.1662 - accuracy: 0.9417\n",
            "Epoch 149/200\n",
            "24/24 [==============================] - 0s 2ms/step - loss: 0.1722 - accuracy: 0.9167\n",
            "Epoch 150/200\n",
            "24/24 [==============================] - 0s 2ms/step - loss: 0.2058 - accuracy: 0.8917\n",
            "Epoch 151/200\n",
            "24/24 [==============================] - 0s 2ms/step - loss: 0.1088 - accuracy: 0.9583\n",
            "Epoch 152/200\n",
            "24/24 [==============================] - 0s 1ms/step - loss: 0.1486 - accuracy: 0.9417\n",
            "Epoch 153/200\n",
            "24/24 [==============================] - 0s 2ms/step - loss: 0.2064 - accuracy: 0.8917\n",
            "Epoch 154/200\n",
            "24/24 [==============================] - 0s 2ms/step - loss: 0.1825 - accuracy: 0.9083\n",
            "Epoch 155/200\n",
            "24/24 [==============================] - 0s 2ms/step - loss: 0.1922 - accuracy: 0.9083\n",
            "Epoch 156/200\n",
            "24/24 [==============================] - 0s 1ms/step - loss: 0.2077 - accuracy: 0.9000\n",
            "Epoch 157/200\n",
            "24/24 [==============================] - 0s 1ms/step - loss: 0.1755 - accuracy: 0.9333\n",
            "Epoch 158/200\n",
            "24/24 [==============================] - 0s 2ms/step - loss: 0.1323 - accuracy: 0.9417\n",
            "Epoch 159/200\n",
            "24/24 [==============================] - 0s 1ms/step - loss: 0.2716 - accuracy: 0.8333\n",
            "Epoch 160/200\n",
            "24/24 [==============================] - 0s 1ms/step - loss: 0.1767 - accuracy: 0.9167\n",
            "Epoch 161/200\n",
            "24/24 [==============================] - 0s 2ms/step - loss: 0.1282 - accuracy: 0.9583\n",
            "Epoch 162/200\n",
            "24/24 [==============================] - 0s 2ms/step - loss: 0.2157 - accuracy: 0.8917\n",
            "Epoch 163/200\n",
            "24/24 [==============================] - 0s 2ms/step - loss: 0.1676 - accuracy: 0.9333\n",
            "Epoch 164/200\n",
            "24/24 [==============================] - 0s 1ms/step - loss: 0.2135 - accuracy: 0.9000\n",
            "Epoch 165/200\n",
            "24/24 [==============================] - 0s 2ms/step - loss: 0.1134 - accuracy: 0.9500\n",
            "Epoch 166/200\n",
            "24/24 [==============================] - 0s 2ms/step - loss: 0.1831 - accuracy: 0.9083\n",
            "Epoch 167/200\n",
            "24/24 [==============================] - 0s 2ms/step - loss: 0.1402 - accuracy: 0.9417\n",
            "Epoch 168/200\n",
            "24/24 [==============================] - 0s 2ms/step - loss: 0.1589 - accuracy: 0.9167\n",
            "Epoch 169/200\n",
            "24/24 [==============================] - 0s 2ms/step - loss: 0.1792 - accuracy: 0.9167\n",
            "Epoch 170/200\n",
            "24/24 [==============================] - 0s 2ms/step - loss: 0.1725 - accuracy: 0.9167\n",
            "Epoch 171/200\n",
            "24/24 [==============================] - 0s 1ms/step - loss: 0.1800 - accuracy: 0.9167\n",
            "Epoch 172/200\n",
            "24/24 [==============================] - 0s 1ms/step - loss: 0.1378 - accuracy: 0.9500\n",
            "Epoch 173/200\n",
            "24/24 [==============================] - 0s 2ms/step - loss: 0.1618 - accuracy: 0.9167\n",
            "Epoch 174/200\n",
            "24/24 [==============================] - 0s 2ms/step - loss: 0.2092 - accuracy: 0.8917\n",
            "Epoch 175/200\n",
            "24/24 [==============================] - 0s 2ms/step - loss: 0.1640 - accuracy: 0.9250\n",
            "Epoch 176/200\n",
            "24/24 [==============================] - 0s 2ms/step - loss: 0.1542 - accuracy: 0.9167\n",
            "Epoch 177/200\n",
            "24/24 [==============================] - 0s 2ms/step - loss: 0.2424 - accuracy: 0.9000\n",
            "Epoch 178/200\n",
            "24/24 [==============================] - 0s 1ms/step - loss: 0.1525 - accuracy: 0.9333\n",
            "Epoch 179/200\n",
            "24/24 [==============================] - 0s 1ms/step - loss: 0.1202 - accuracy: 0.9583\n",
            "Epoch 180/200\n",
            "24/24 [==============================] - 0s 2ms/step - loss: 0.1320 - accuracy: 0.9417\n",
            "Epoch 181/200\n",
            "24/24 [==============================] - 0s 2ms/step - loss: 0.1668 - accuracy: 0.9083\n",
            "Epoch 182/200\n",
            "24/24 [==============================] - 0s 2ms/step - loss: 0.1602 - accuracy: 0.9250\n",
            "Epoch 183/200\n",
            "24/24 [==============================] - 0s 2ms/step - loss: 0.1538 - accuracy: 0.9333\n",
            "Epoch 184/200\n",
            "24/24 [==============================] - 0s 2ms/step - loss: 0.1134 - accuracy: 0.9583\n",
            "Epoch 185/200\n",
            "24/24 [==============================] - 0s 2ms/step - loss: 0.1756 - accuracy: 0.9250\n",
            "Epoch 186/200\n",
            "24/24 [==============================] - 0s 2ms/step - loss: 0.2090 - accuracy: 0.8917\n",
            "Epoch 187/200\n",
            "24/24 [==============================] - 0s 2ms/step - loss: 0.1765 - accuracy: 0.9333\n",
            "Epoch 188/200\n",
            "24/24 [==============================] - 0s 1ms/step - loss: 0.1872 - accuracy: 0.9250\n",
            "Epoch 189/200\n",
            "24/24 [==============================] - 0s 2ms/step - loss: 0.1844 - accuracy: 0.8917\n",
            "Epoch 190/200\n",
            "24/24 [==============================] - 0s 2ms/step - loss: 0.2133 - accuracy: 0.9000\n",
            "Epoch 191/200\n",
            "24/24 [==============================] - 0s 2ms/step - loss: 0.1783 - accuracy: 0.9333\n",
            "Epoch 192/200\n",
            "24/24 [==============================] - 0s 2ms/step - loss: 0.1579 - accuracy: 0.9333\n",
            "Epoch 193/200\n",
            "24/24 [==============================] - 0s 2ms/step - loss: 0.1450 - accuracy: 0.9583\n",
            "Epoch 194/200\n",
            "24/24 [==============================] - 0s 2ms/step - loss: 0.1641 - accuracy: 0.9250\n",
            "Epoch 195/200\n",
            "24/24 [==============================] - 0s 2ms/step - loss: 0.2009 - accuracy: 0.9083\n",
            "Epoch 196/200\n",
            "24/24 [==============================] - 0s 2ms/step - loss: 0.1924 - accuracy: 0.9333\n",
            "Epoch 197/200\n",
            "24/24 [==============================] - 0s 2ms/step - loss: 0.1391 - accuracy: 0.9417\n",
            "Epoch 198/200\n",
            "24/24 [==============================] - 0s 2ms/step - loss: 0.1349 - accuracy: 0.9333\n",
            "Epoch 199/200\n",
            "24/24 [==============================] - 0s 2ms/step - loss: 0.1595 - accuracy: 0.9333\n",
            "Epoch 200/200\n",
            "24/24 [==============================] - 0s 2ms/step - loss: 0.1852 - accuracy: 0.9083\n"
          ],
          "name": "stdout"
        },
        {
          "output_type": "execute_result",
          "data": {
            "text/plain": [
              "<tensorflow.python.keras.callbacks.History at 0x7f008c3fd630>"
            ]
          },
          "metadata": {
            "tags": []
          },
          "execution_count": 14
        }
      ]
    },
    {
      "cell_type": "markdown",
      "metadata": {
        "id": "ewyH0ImQhBuA"
      },
      "source": [
        "# <div style=\"direction:rtl;text-align:right;font-family:B Lotus, B Nazanin, Tahoma\">سوال 4:</div>\n",
        "<div style=\"direction:rtl;text-align:right;font-family:Tahoma\">\n",
        "مدل را روی داده های test ارزیابی کنید.\n",
        "<br>\n",
        "<b>راهنمایی: </b>\n",
        "از تابع model.evaluate استفاده کنید.\n",
        "</div>"
      ]
    },
    {
      "cell_type": "code",
      "metadata": {
        "id": "EEKqTMXghBuB",
        "colab": {
          "base_uri": "https://localhost:8080/"
        },
        "outputId": "087b6617-1a7a-49da-c48d-54b473f0e491"
      },
      "source": [
        "# Test on unseen data\n",
        "results = model.evaluate(test_x, test_y)\n",
        "\n",
        "print('Final test set loss: {:4f}'.format(results[0]))\n",
        "print('Final test set accuracy: {:4f}'.format(results[1]))"
      ],
      "execution_count": null,
      "outputs": [
        {
          "output_type": "stream",
          "text": [
            "1/1 [==============================] - 0s 18ms/step - loss: 0.0165 - accuracy: 1.0000\n",
            "Final test set loss: 0.016541\n",
            "Final test set accuracy: 1.000000\n"
          ],
          "name": "stdout"
        }
      ]
    },
    {
      "cell_type": "markdown",
      "metadata": {
        "id": "bL8ZJdQUhBuF"
      },
      "source": [
        "<div class=\"alert alert-block alert-info\">\n",
        "<div style=\"direction:rtl;text-align:right;font-family:B Lotus, B Nazanin, Tahoma\"> دوره مقدماتی یادگیری عمیق<br>علیرضا اخوان پور<br>پنج شنبه، ۱۸ و ۲۵ بهمن ۱۳۹۷<br>\n",
        "</div>\n",
        "<a href=\"http://class.vision\">Class.Vision</a> - <a href=\"http://AkhavanPour.ir\">AkhavanPour.ir</a> - <a href=\"https://github.com/Alireza-Akhavan/\">GitHub</a>\n",
        "\n",
        "</div>"
      ]
    }
  ]
}