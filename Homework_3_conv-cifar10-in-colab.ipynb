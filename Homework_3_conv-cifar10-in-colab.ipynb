{
  "nbformat": 4,
  "nbformat_minor": 0,
  "metadata": {
    "kernelspec": {
      "display_name": "tensorflow",
      "language": "python",
      "name": "tensorflow"
    },
    "language_info": {
      "codemirror_mode": {
        "name": "ipython",
        "version": 3
      },
      "file_extension": ".py",
      "mimetype": "text/x-python",
      "name": "python",
      "nbconvert_exporter": "python",
      "pygments_lexer": "ipython3",
      "version": "3.6.8"
    },
    "colab": {
      "name": "ex2-conv-cifar10-in-colab.ipynb",
      "provenance": [],
      "collapsed_sections": []
    },
    "accelerator": "GPU"
  },
  "cells": [
    {
      "cell_type": "markdown",
      "metadata": {
        "id": "bW1ywCZPD5Sl"
      },
      "source": [
        "<center><div style=\"direction:rtl;font-family:B Lotus, B Nazanin, Tahoma\">به نام خدا</div></center>\n",
        "\n",
        "<h1><center><div style=\"direction:rtl;font-family:B Lotus, B Nazanin, Tahoma\">تمرین عملی 2: طبقه بندی تصاویر Cifar10 با شبکه های کانولوشنالی روی googleColab</div></center></h1>\n",
        "\n",
        "[![Run in Google Colab](./images/colab.png)](https://colab.research.google.com/github/alireza-akhavan/SRU-deeplearning-workshop/blob/master/homework/ex2-conv-cifar10-in-colab.ipynb)"
      ]
    },
    {
      "cell_type": "markdown",
      "metadata": {
        "id": "FGUEIiILD5So"
      },
      "source": [
        "## <div style=\"direction:rtl;text-align:right;font-family:B Lotus, B Nazanin, Tahoma\">صورت مساله</div>\n",
        "\n",
        "\n",
        "<div style=\"direction:rtl;text-align:right;font-family:Tahoma\">\n",
        "با شبکه های کانولوشنالی آشنا شدیم<br>\n",
        "توصیه می‌شود حتما بعد از تمرین اول این تمرین را حل کنید و قبل از این تمرین نوت بوک زیر را  مرور کنید:\n",
        "</div>\n",
        "\n",
        "[06_ConvolutionalNeuralNetwork-Hoda-Keras.ipynb ](https://nbviewer.jupyter.org/github/alireza-akhavan/SRU-deeplearning-workshop/blob/master/06_ConvolutionalNeuralNetwork-Hoda-Keras.ipynb)\n",
        "\n",
        "<div style=\"direction:rtl;text-align:right;font-family:Tahoma\">\n",
        "در این تمرین از مجموعه داده تصویری cifar10 استفاده خواهیم کرد. \n",
        "<br>\n",
        "خیلی از اوقات ممکنه دسترسی به GPU نداشته باشیم. حخوشبختانه سرویس های آنلاین و رایگانی هستند که توان محاسباتی رایگان در اختیارمان میگذراند. در این تمرین از شما خواسته شده که این نوت بوک را در گوگل کولب اجرا کنید.\n",
        "<br>\n",
        " قبلا در مورد گوگل کولب دو پست آموزشی نوشته شده است که در صورت تمایل به کسب اطلاعات بیشتر میتوانید بخوانید.\n",
        "    اما برای اجرا این تمرین نیازی به این جزئیات نخواهید داشت.\n",
        "</div>\n",
        "\n",
        "[آشنایی با سرویس ابری Google Colab ](http://blog.class.vision/1397/02/google-colab/)\n",
        "\n",
        "[اتصال مستقیم سرویس کولب (Google Colab) به درایو (Google Drive) از طریق فایل سیستم FUSE ](http://blog.class.vision/1397/04/%D8%A7%D8%AA%D8%B5%D8%A7%D9%84-%D9%85%D8%B3%D8%AA%D9%82%DB%8C%D9%85-%D8%B3%D8%B1%D9%88%DB%8C%D8%B3-%DA%A9%D9%88%D9%84%D8%A8-google-colab-%D8%A8%D9%87-%D8%AF%D8%B1%D8%A7%DB%8C%D9%88-google-drive/)\n"
      ]
    },
    {
      "cell_type": "markdown",
      "metadata": {
        "id": "oMBWHkonD5Sq"
      },
      "source": [
        "## <div style=\"direction:rtl;text-align:right;font-family:B Lotus, B Nazanin, Tahoma\">لود کتابخانه های مورد نیاز </div>\n",
        "<div style=\"direction:rtl;text-align:right;font-family:Tahoma\">\n",
        "کتابخانه های مورد نیاز این تمرین لود شده اند\n",
        "<br>\n",
        "در صورت نیاز میتوانید کتابخانه های بیشتری لود کنید:\n",
        "</div>"
      ]
    },
    {
      "cell_type": "code",
      "metadata": {
        "id": "Km_-aj20D5Sr"
      },
      "source": [
        "import keras\n",
        "from keras.models import Sequential\n",
        "from keras.layers import Dense, Activation, Flatten, Dropout\n",
        "from keras.layers import Conv2D, MaxPooling2D\n",
        "from keras.datasets import cifar10\n",
        "import numpy as np\n",
        "import matplotlib.pyplot as plt\n",
        "%matplotlib inline"
      ],
      "execution_count": null,
      "outputs": []
    },
    {
      "cell_type": "markdown",
      "metadata": {
        "id": "3C3smhvxD5Ss"
      },
      "source": [
        "## <div style=\"direction:rtl;text-align:right;font-family:B Lotus, B Nazanin, Tahoma\">مجموعه داده ی Cifar10 </div>\n",
        "<div style=\"direction:rtl;text-align:right;font-family:Tahoma\">\n",
        "<br>\n",
        "این مجموعه داده تصاویر رنگی در اندازه ی 32 در 32 و در 10 کلاس مختلف شامل ماشین، کامیون، اسب و ... است که در چارچوب کراس موجود است و از همان استفاده میکنیم.\n",
        "<br>\n",
        "اطلاعات بیشتر در مورد این مجموعه داده را از سایت این مجموعه داده میتوانید مطالعه کنید:\n",
        "<br>\n",
        "</div>\n",
        "\n",
        "https://www.cs.toronto.edu/~kriz/cifar.html"
      ]
    },
    {
      "cell_type": "code",
      "metadata": {
        "id": "uINMhxzsD5Ss",
        "colab": {
          "base_uri": "https://localhost:8080/"
        },
        "outputId": "8fe2add1-9578-44a0-c550-ed869bb43c37"
      },
      "source": [
        "(x_train, y_train), (x_test, y_test) = cifar10.load_data()"
      ],
      "execution_count": null,
      "outputs": [
        {
          "output_type": "stream",
          "text": [
            "Downloading data from https://www.cs.toronto.edu/~kriz/cifar-10-python.tar.gz\n",
            "170500096/170498071 [==============================] - 2s 0us/step\n"
          ],
          "name": "stdout"
        }
      ]
    },
    {
      "cell_type": "markdown",
      "metadata": {
        "id": "9OiKTI0uD5St"
      },
      "source": [
        "## <div style=\"direction:rtl;text-align:right;font-family:B Lotus, B Nazanin, Tahoma\">نگاهی به مجموعه داده بیندازیم...</div>\n",
        "<div style=\"direction:rtl;text-align:right;font-family:Tahoma\">\n",
        "در زیر تصویری که در اندیس 7-ام این مجموعه داده قرار دارد را مشاهده می‌کنیم. این شماره را را به دلخوه عوض کنید و چند تصویر دیگر این مجموعه داده را ببینید.\n",
        "</div>\n"
      ]
    },
    {
      "cell_type": "code",
      "metadata": {
        "colab": {
          "base_uri": "https://localhost:8080/",
          "height": 283
        },
        "id": "_ValwgXRD5St",
        "outputId": "c26be94e-ad33-48c4-9493-075303129e9e"
      },
      "source": [
        "plt.imshow(x_train[11])"
      ],
      "execution_count": null,
      "outputs": [
        {
          "output_type": "execute_result",
          "data": {
            "text/plain": [
              "<matplotlib.image.AxesImage at 0x7f7a54f6df60>"
            ]
          },
          "metadata": {
            "tags": []
          },
          "execution_count": 5
        },
        {
          "output_type": "display_data",
          "data": {
            "image/png": "[encoded data removed]",
            "text/plain": [
              "<Figure size 432x288 with 1 Axes>"
            ]
          },
          "metadata": {
            "tags": [],
            "needs_background": "light"
          }
        }
      ]
    },
    {
      "cell_type": "markdown",
      "metadata": {
        "id": "P5faqtRcD5Su"
      },
      "source": [
        "# <div style=\"direction:rtl;text-align:right;font-family:B Lotus, B Nazanin, Tahoma\">سوال 1:</div>\n",
        "<div style=\"direction:rtl;text-align:right;font-family:Tahoma\">\n",
        "ماتریس های تصویر را تبدیل به نوع داده ای float32 کنید و مقادیر پیکسل ها را نرمال کنید و بین 0 و 1 بیاورید.\n",
        "<br>\n",
        "<b>راهنمایی: </b>\n",
        "شما باید متد astype را صدا بزنید و در نهایت مقادیر پیکسل ها را تقسیم بر 255 کنید.</div>"
      ]
    },
    {
      "cell_type": "code",
      "metadata": {
        "id": "R49koTfUD5Sv"
      },
      "source": [
        "x_train = x_train.astype('float32')\n",
        "x_test = x_test.astype('float32')\n",
        "x_train /= 255\n",
        "x_test /= 255"
      ],
      "execution_count": null,
      "outputs": []
    },
    {
      "cell_type": "code",
      "metadata": {
        "colab": {
          "base_uri": "https://localhost:8080/"
        },
        "id": "IxPwvjF7JM8g",
        "outputId": "21e40897-21cf-4cb3-c365-1345a74f9ed7"
      },
      "source": [
        "x_train.shape"
      ],
      "execution_count": null,
      "outputs": [
        {
          "output_type": "execute_result",
          "data": {
            "text/plain": [
              "(50000, 32, 32, 3)"
            ]
          },
          "metadata": {
            "tags": []
          },
          "execution_count": 5
        }
      ]
    },
    {
      "cell_type": "markdown",
      "metadata": {
        "id": "-O4uNcGPD5Sv"
      },
      "source": [
        "# <div style=\"direction:rtl;text-align:right;font-family:B Lotus, B Nazanin, Tahoma\">سوال 2:</div>\n",
        "<div style=\"direction:rtl;text-align:right;font-family:Tahoma\">\n",
        "همان طور که میبینید لیبل ها از نوع عددی هستند. آن ها را تبدیل به فرمت one-hot کنید.<br>\n",
        "</div>\n"
      ]
    },
    {
      "cell_type": "markdown",
      "metadata": {
        "id": "Fs0XUun4D5Sv"
      },
      "source": [
        "<hr>\n",
        "<div style=\"direction:rtl;text-align:right;font-family:Tahoma\">\n",
        "تعدادی از لیبل ها قبل از تبدیل به فرمت one-hot:</div>"
      ]
    },
    {
      "cell_type": "code",
      "metadata": {
        "id": "JANlUn4ID5Sw",
        "outputId": "c9081ca9-82ad-40ac-e877-602dffb94be9"
      },
      "source": [
        "y_train[0:10]"
      ],
      "execution_count": null,
      "outputs": [
        {
          "output_type": "execute_result",
          "data": {
            "text/plain": [
              "array([[6],\n",
              "       [9],\n",
              "       [9],\n",
              "       [4],\n",
              "       [1],\n",
              "       [1],\n",
              "       [2],\n",
              "       [7],\n",
              "       [8],\n",
              "       [3]], dtype=uint8)"
            ]
          },
          "metadata": {
            "tags": []
          },
          "execution_count": 5
        }
      ]
    },
    {
      "cell_type": "code",
      "metadata": {
        "id": "7nhOBqjND5Sw"
      },
      "source": [
        "y_train = keras.utils.to_categorical(y_train, num_classes=10)\n",
        "y_test = keras.utils.to_categorical(y_test, num_classes=10) "
      ],
      "execution_count": null,
      "outputs": []
    },
    {
      "cell_type": "markdown",
      "metadata": {
        "id": "aEcNxgEND5Sx"
      },
      "source": [
        "<div style=\"direction:rtl;text-align:right;font-family:Tahoma\">\n",
        "تعدادی از لیبل ها بعد از تبدیل به فرمت one-hot:</div>"
      ]
    },
    {
      "cell_type": "code",
      "metadata": {
        "id": "CkArFcgtD5Sx"
      },
      "source": [
        "y_train[0:10]"
      ],
      "execution_count": null,
      "outputs": []
    },
    {
      "cell_type": "code",
      "metadata": {
        "colab": {
          "base_uri": "https://localhost:8080/"
        },
        "id": "cH8UfcFQJFNU",
        "outputId": "ec9bfc2f-4aa8-49a2-9055-9fd4d71c5cce"
      },
      "source": [
        "y_train.shape"
      ],
      "execution_count": null,
      "outputs": [
        {
          "output_type": "execute_result",
          "data": {
            "text/plain": [
              "(50000, 10)"
            ]
          },
          "metadata": {
            "tags": []
          },
          "execution_count": 7
        }
      ]
    },
    {
      "cell_type": "markdown",
      "metadata": {
        "id": "uSCQjYr7D5Sy"
      },
      "source": [
        "# <div style=\"direction:rtl;text-align:right;font-family:B Lotus, B Nazanin, Tahoma\">سوال 3:</div>\n",
        "<div style=\"direction:rtl;text-align:right;font-family:Tahoma\">\n",
        "یک شبکه کانولوشنالی با معماری زیر بسازید:\n",
        "<ul>\n",
        "    <li>\n",
        "    یک لایه کانولوشنی با32 فیلتر با سایز فیلتر 3x3 و تابع فعالیت relu\n",
        "    </li>\n",
        "    <li>\n",
        "    لایه ی pooling با pool_size=(2,2)\n",
        "    </li>\n",
        "    <li>\n",
        "    یک لایه کانولوشنی با32 فیلتر با سایز فیلتر 3x3 و تابع فعالیت relu\n",
        "    </li>\n",
        "    <li>\n",
        "    لایه ی pooling با pool_size=(2,2)\n",
        "    </li>\n",
        "    <li>\n",
        "    یک لایه کانولوشنی با64 فیلتر با سایز فیلتر 3x3 و تابع فعالیت relu\n",
        "    </li>\n",
        "    <li>\n",
        "    لایه ی pooling با pool_size=(2,2)\n",
        "    </li>\n",
        "    <li>\n",
        "    استفاده از لایه ی Flatten() . به نظرتون چرا؟\n",
        "    </li>    \n",
        "    <li>\n",
        "    یک لایه Dropout با ترخ 0.5.\n",
        "    </li>\n",
        "    <li>\n",
        "    یک لایه softmax برای احتمالات خروجی. به نظرتون این لایه چند نوران میخواهد؟\n",
        "    </li>    \n",
        " \n",
        "</ul>\n",
        "</div>\n"
      ]
    },
    {
      "cell_type": "code",
      "metadata": {
        "id": "61_-iy-VD5Sy"
      },
      "source": [
        "model = Sequential()\n",
        "model.add(Conv2D(32, (3, 3), activation='relu', input_shape=(32, 32, 3)))\n",
        "model.add(MaxPooling2D((2, 2)))\n",
        "model.add(Conv2D(32, (3, 3), activation='relu'))\n",
        "model.add(MaxPooling2D((2, 2)))\n",
        "model.add(Conv2D(64, (3, 3), activation='relu'))\n",
        "model.add(MaxPooling2D((2, 2)))\n",
        "model.add(Flatten())\n",
        "model.add(Dropout(0.5))\n",
        "model.add(Dense(10, activation='softmax'))\n",
        "\n"
      ],
      "execution_count": null,
      "outputs": []
    },
    {
      "cell_type": "markdown",
      "metadata": {
        "id": "I_SRi_wjD5Sz"
      },
      "source": [
        "# <div style=\"direction:rtl;text-align:right;font-family:B Lotus, B Nazanin, Tahoma\">سوال 4:</div>\n",
        "<div style=\"direction:rtl;text-align:right;font-family:Tahoma\">\n",
        "مدل را کامپایل کنید و به عنوان optimizer متغیر opt_rms به تابع ارسال کنید. </div>\n"
      ]
    },
    {
      "cell_type": "code",
      "metadata": {
        "id": "zTxEwxjpD5Sz"
      },
      "source": [
        "opt_rms = keras.optimizers.RMSprop(lr=0.001,decay=1e-6)\n",
        "\n",
        "model.compile(loss='categorical_crossentropy',\n",
        "              optimizer=opt_rms,\n",
        "              metrics=['accuracy'])"
      ],
      "execution_count": null,
      "outputs": []
    },
    {
      "cell_type": "markdown",
      "metadata": {
        "id": "IGUytw_6D5Sz"
      },
      "source": [
        "# <div style=\"direction:rtl;text-align:right;font-family:B Lotus, B Nazanin, Tahoma\">سوال 5:</div>\n",
        "<div style=\"direction:rtl;text-align:right;font-family:Tahoma\">\n",
        "با فراخوانی متد fit روی مدل آن را آموزش بدهید. برای سادگی25 ایپاک با سایز بچ 64 بزنید. \n",
        "    <br>\n",
        " به عنوان دیتای validation نیز x_test و y_test را ارسال کنید که در هر سری کارایی روی داده های تست اعلام شود.\n",
        "</div>"
      ]
    },
    {
      "cell_type": "code",
      "metadata": {
        "colab": {
          "base_uri": "https://localhost:8080/"
        },
        "id": "heb1RnI5D5S0",
        "outputId": "15e12679-6c77-44af-9062-8c56e16bfd02"
      },
      "source": [
        "history = model.fit(x_train, y_train,epochs=25, batch_size=64, validation_data = (x_test, y_test) )"
      ],
      "execution_count": null,
      "outputs": [
        {
          "output_type": "stream",
          "text": [
            "Epoch 1/25\n",
            "782/782 [==============================] - 11s 5ms/step - loss: 1.9977 - accuracy: 0.2538 - val_loss: 1.5448 - val_accuracy: 0.4513\n",
            "Epoch 2/25\n",
            "782/782 [==============================] - 3s 4ms/step - loss: 1.5756 - accuracy: 0.4277 - val_loss: 1.4118 - val_accuracy: 0.4888\n",
            "Epoch 3/25\n",
            "782/782 [==============================] - 3s 4ms/step - loss: 1.4306 - accuracy: 0.4841 - val_loss: 1.5061 - val_accuracy: 0.4820\n",
            "Epoch 4/25\n",
            "782/782 [==============================] - 3s 4ms/step - loss: 1.3491 - accuracy: 0.5167 - val_loss: 1.4449 - val_accuracy: 0.4782\n",
            "Epoch 5/25\n",
            "782/782 [==============================] - 3s 4ms/step - loss: 1.2749 - accuracy: 0.5470 - val_loss: 1.2628 - val_accuracy: 0.5602\n",
            "Epoch 6/25\n",
            "782/782 [==============================] - 3s 4ms/step - loss: 1.2335 - accuracy: 0.5636 - val_loss: 1.2122 - val_accuracy: 0.5662\n",
            "Epoch 7/25\n",
            "782/782 [==============================] - 3s 4ms/step - loss: 1.1824 - accuracy: 0.5811 - val_loss: 1.1195 - val_accuracy: 0.6079\n",
            "Epoch 8/25\n",
            "782/782 [==============================] - 3s 4ms/step - loss: 1.1418 - accuracy: 0.5975 - val_loss: 1.0985 - val_accuracy: 0.6068\n",
            "Epoch 9/25\n",
            "782/782 [==============================] - 3s 4ms/step - loss: 1.1182 - accuracy: 0.6062 - val_loss: 1.0297 - val_accuracy: 0.6387\n",
            "Epoch 10/25\n",
            "782/782 [==============================] - 3s 4ms/step - loss: 1.0973 - accuracy: 0.6141 - val_loss: 1.1472 - val_accuracy: 0.6041\n",
            "Epoch 11/25\n",
            "782/782 [==============================] - 3s 4ms/step - loss: 1.0837 - accuracy: 0.6179 - val_loss: 0.9868 - val_accuracy: 0.6582\n",
            "Epoch 12/25\n",
            "782/782 [==============================] - 3s 4ms/step - loss: 1.0436 - accuracy: 0.6339 - val_loss: 1.0360 - val_accuracy: 0.6343\n",
            "Epoch 13/25\n",
            "782/782 [==============================] - 3s 4ms/step - loss: 1.0251 - accuracy: 0.6428 - val_loss: 0.9895 - val_accuracy: 0.6566\n",
            "Epoch 14/25\n",
            "782/782 [==============================] - 3s 4ms/step - loss: 1.0197 - accuracy: 0.6405 - val_loss: 0.9752 - val_accuracy: 0.6683\n",
            "Epoch 15/25\n",
            "782/782 [==============================] - 3s 4ms/step - loss: 1.0016 - accuracy: 0.6471 - val_loss: 1.0491 - val_accuracy: 0.6283\n",
            "Epoch 16/25\n",
            "782/782 [==============================] - 3s 4ms/step - loss: 0.9921 - accuracy: 0.6546 - val_loss: 1.1238 - val_accuracy: 0.6116\n",
            "Epoch 17/25\n",
            "782/782 [==============================] - 3s 4ms/step - loss: 0.9866 - accuracy: 0.6583 - val_loss: 0.9260 - val_accuracy: 0.6841\n",
            "Epoch 18/25\n",
            "782/782 [==============================] - 3s 4ms/step - loss: 0.9735 - accuracy: 0.6620 - val_loss: 0.9099 - val_accuracy: 0.6848\n",
            "Epoch 19/25\n",
            "782/782 [==============================] - 3s 4ms/step - loss: 0.9489 - accuracy: 0.6677 - val_loss: 1.0102 - val_accuracy: 0.6479\n",
            "Epoch 20/25\n",
            "782/782 [==============================] - 3s 4ms/step - loss: 0.9421 - accuracy: 0.6719 - val_loss: 0.9006 - val_accuracy: 0.6924\n",
            "Epoch 21/25\n",
            "782/782 [==============================] - 3s 4ms/step - loss: 0.9367 - accuracy: 0.6729 - val_loss: 1.0464 - val_accuracy: 0.6360\n",
            "Epoch 22/25\n",
            "782/782 [==============================] - 3s 4ms/step - loss: 0.9406 - accuracy: 0.6726 - val_loss: 0.9144 - val_accuracy: 0.6767\n",
            "Epoch 23/25\n",
            "782/782 [==============================] - 3s 4ms/step - loss: 0.9301 - accuracy: 0.6752 - val_loss: 0.8905 - val_accuracy: 0.6974\n",
            "Epoch 24/25\n",
            "782/782 [==============================] - 3s 4ms/step - loss: 0.9229 - accuracy: 0.6783 - val_loss: 0.9435 - val_accuracy: 0.6758\n",
            "Epoch 25/25\n",
            "782/782 [==============================] - 3s 4ms/step - loss: 0.9091 - accuracy: 0.6813 - val_loss: 1.0589 - val_accuracy: 0.6211\n"
          ],
          "name": "stdout"
        }
      ]
    },
    {
      "cell_type": "code",
      "metadata": {
        "colab": {
          "base_uri": "https://localhost:8080/",
          "height": 545
        },
        "id": "KWx2uYMNZFV8",
        "outputId": "f64eb7f6-a311-4f7a-c6c6-e707b65f650c"
      },
      "source": [
        "import matplotlib.pyplot as plt\n",
        "%matplotlib inline\n",
        "acc = history.history['accuracy']\n",
        "val_acc = history.history['val_accuracy']\n",
        "loss = history.history['loss']\n",
        "val_loss = history.history['val_loss']\n",
        "\n",
        "epochs = range(len(acc))\n",
        "\n",
        "plt.plot(epochs, acc, 'bo', label='Training acc')\n",
        "plt.plot(epochs, val_acc, 'b', label='Validation acc')\n",
        "plt.title('Training and validation accuracy')\n",
        "plt.legend()\n",
        "\n",
        "plt.figure()\n",
        "\n",
        "plt.plot(epochs, loss, 'bo', label='Training loss')\n",
        "plt.plot(epochs, val_loss, 'b', label='Validation loss')\n",
        "plt.title('Training and validation loss')\n",
        "plt.legend()\n",
        "\n",
        "plt.show()"
      ],
      "execution_count": null,
      "outputs": [
        {
          "output_type": "display_data",
          "data": {
            "image/png": "[encoded data removed]",
            "text/plain": [
              "<Figure size 432x288 with 1 Axes>"
            ]
          },
          "metadata": {
            "tags": [],
            "needs_background": "light"
          }
        },
        {
          "output_type": "display_data",
          "data": {
            "image/png": "[encoded data removed]",
            "text/plain": [
              "<Figure size 432x288 with 1 Axes>"
            ]
          },
          "metadata": {
            "tags": [],
            "needs_background": "light"
          }
        }
      ]
    },
    {
      "cell_type": "code",
      "metadata": {
        "colab": {
          "base_uri": "https://localhost:8080/",
          "height": 282
        },
        "id": "L9ZW57l4aWm_",
        "outputId": "3591872d-fa59-421f-e15a-872783412104"
      },
      "source": [
        "import pandas as pd\n",
        "history_df = pd.DataFrame(history.history)\n",
        "history_df.loc[10:, ['loss', 'val_loss']].plot()\n",
        "print(\"Minimum Validation Loss: {:0.4f}\".format(history_df['val_loss'].min()));\n"
      ],
      "execution_count": null,
      "outputs": [
        {
          "output_type": "stream",
          "text": [
            "Minimum Validation Loss: 0.8905\n"
          ],
          "name": "stdout"
        },
        {
          "output_type": "display_data",
          "data": {
            "image/png": "[encoded data removed]",
            "text/plain": [
              "<Figure size 432x288 with 1 Axes>"
            ]
          },
          "metadata": {
            "tags": [],
            "needs_background": "light"
          }
        }
      ]
    },
    {
      "cell_type": "markdown",
      "metadata": {
        "id": "8P746fQTD5S0"
      },
      "source": [
        "# <div style=\"direction:rtl;text-align:right;font-family:B Lotus, B Nazanin, Tahoma\">سوال 6:</div>\n",
        "<div style=\"direction:rtl;text-align:right;font-family:Tahoma\">\n",
        "شبکه و هایپرپارامترهای این شبکه را به هر نحوی دوست دارید تغییر دهید تا دقت روی دادگان تست را به حداکثر برسانید.\n",
        "</div>\n"
      ]
    },
    {
      "cell_type": "markdown",
      "metadata": {
        "id": "CNWvFFlRU_jw"
      },
      "source": [
        "I made 3 changes:\n",
        "---- Add another Dense layer\n",
        "----Add Early stopping\n",
        "----Change optimizer Function"
      ]
    },
    {
      "cell_type": "code",
      "metadata": {
        "id": "P2GJ9XJ0ZcoU"
      },
      "source": [
        "model1 = Sequential()\n",
        "model1.add(Conv2D(32, (3, 3), activation='relu', input_shape=(32, 32, 3)))\n",
        "model1.add(MaxPooling2D((2, 2)))\n",
        "model1.add(Conv2D(32, (3, 3), activation='relu'))\n",
        "model1.add(MaxPooling2D((2, 2)))\n",
        "model1.add(Conv2D(64, (3, 3), activation='relu'))\n",
        "model1.add(MaxPooling2D((2, 2)))\n",
        "model1.add(Flatten())\n",
        "model1.add(Dense(64, activation='relu'))# add this layer\n",
        "model1.add(Dropout(0.5))\n",
        "model1.add(Dense(10, activation='softmax'))\n"
      ],
      "execution_count": null,
      "outputs": []
    },
    {
      "cell_type": "code",
      "metadata": {
        "id": "fWXbU-dzZvQc"
      },
      "source": [
        "model1.compile(loss='categorical_crossentropy',\n",
        "              optimizer='adam',#change optimizer\n",
        "              metrics=['accuracy'])"
      ],
      "execution_count": null,
      "outputs": []
    },
    {
      "cell_type": "code",
      "metadata": {
        "id": "XydmDBL9bRNg"
      },
      "source": [
        "from keras.callbacks import  EarlyStopping\n",
        "early_stopping = EarlyStopping(\n",
        "    min_delta=0.001, # minimium amount of change to count as an improvement\n",
        "    patience=5, # how many epochs to wait before stopping\n",
        "    restore_best_weights=True,\n",
        ")"
      ],
      "execution_count": null,
      "outputs": []
    },
    {
      "cell_type": "code",
      "metadata": {
        "colab": {
          "base_uri": "https://localhost:8080/"
        },
        "id": "TUF5nZ_LZ3MJ",
        "outputId": "06799da9-ef8a-436d-beb0-a97c5cb28c6f"
      },
      "source": [
        "history1= model1.fit(x_train, y_train,epochs=25, batch_size=64, validation_data = (x_test, y_test) ,callbacks=[early_stopping])"
      ],
      "execution_count": null,
      "outputs": [
        {
          "output_type": "stream",
          "text": [
            "Epoch 1/25\n",
            "782/782 [==============================] - 4s 4ms/step - loss: 1.9922 - accuracy: 0.2397 - val_loss: 1.5427 - val_accuracy: 0.4313\n",
            "Epoch 2/25\n",
            "782/782 [==============================] - 3s 4ms/step - loss: 1.5668 - accuracy: 0.4251 - val_loss: 1.3183 - val_accuracy: 0.5196\n",
            "Epoch 3/25\n",
            "782/782 [==============================] - 3s 4ms/step - loss: 1.4132 - accuracy: 0.4889 - val_loss: 1.2440 - val_accuracy: 0.5542\n",
            "Epoch 4/25\n",
            "782/782 [==============================] - 3s 4ms/step - loss: 1.3311 - accuracy: 0.5191 - val_loss: 1.1928 - val_accuracy: 0.5714\n",
            "Epoch 5/25\n",
            "782/782 [==============================] - 3s 4ms/step - loss: 1.2669 - accuracy: 0.5490 - val_loss: 1.1201 - val_accuracy: 0.5989\n",
            "Epoch 6/25\n",
            "782/782 [==============================] - 3s 4ms/step - loss: 1.1969 - accuracy: 0.5791 - val_loss: 1.1010 - val_accuracy: 0.6078\n",
            "Epoch 7/25\n",
            "782/782 [==============================] - 3s 4ms/step - loss: 1.1577 - accuracy: 0.5949 - val_loss: 1.0356 - val_accuracy: 0.6341\n",
            "Epoch 8/25\n",
            "782/782 [==============================] - 3s 4ms/step - loss: 1.1009 - accuracy: 0.6143 - val_loss: 1.0106 - val_accuracy: 0.6481\n",
            "Epoch 9/25\n",
            "782/782 [==============================] - 3s 4ms/step - loss: 1.0783 - accuracy: 0.6262 - val_loss: 0.9836 - val_accuracy: 0.6575\n",
            "Epoch 10/25\n",
            "782/782 [==============================] - 3s 4ms/step - loss: 1.0275 - accuracy: 0.6385 - val_loss: 0.9993 - val_accuracy: 0.6520\n",
            "Epoch 11/25\n",
            "782/782 [==============================] - 3s 4ms/step - loss: 1.0158 - accuracy: 0.6452 - val_loss: 0.9476 - val_accuracy: 0.6707\n",
            "Epoch 12/25\n",
            "782/782 [==============================] - 3s 4ms/step - loss: 0.9666 - accuracy: 0.6631 - val_loss: 0.9760 - val_accuracy: 0.6621\n",
            "Epoch 13/25\n",
            "782/782 [==============================] - 3s 4ms/step - loss: 0.9662 - accuracy: 0.6621 - val_loss: 0.9253 - val_accuracy: 0.6714\n",
            "Epoch 14/25\n",
            "782/782 [==============================] - 3s 4ms/step - loss: 0.9271 - accuracy: 0.6772 - val_loss: 0.9005 - val_accuracy: 0.6837\n",
            "Epoch 15/25\n",
            "782/782 [==============================] - 3s 4ms/step - loss: 0.9123 - accuracy: 0.6824 - val_loss: 0.9391 - val_accuracy: 0.6645\n",
            "Epoch 16/25\n",
            "782/782 [==============================] - 3s 4ms/step - loss: 0.9073 - accuracy: 0.6882 - val_loss: 0.8904 - val_accuracy: 0.6897\n",
            "Epoch 17/25\n",
            "782/782 [==============================] - 3s 4ms/step - loss: 0.8887 - accuracy: 0.6897 - val_loss: 0.9115 - val_accuracy: 0.6802\n",
            "Epoch 18/25\n",
            "782/782 [==============================] - 3s 4ms/step - loss: 0.8676 - accuracy: 0.6983 - val_loss: 0.9153 - val_accuracy: 0.6805\n",
            "Epoch 19/25\n",
            "782/782 [==============================] - 3s 4ms/step - loss: 0.8565 - accuracy: 0.7003 - val_loss: 0.8826 - val_accuracy: 0.6955\n",
            "Epoch 20/25\n",
            "782/782 [==============================] - 3s 4ms/step - loss: 0.8439 - accuracy: 0.7071 - val_loss: 0.8869 - val_accuracy: 0.6910\n",
            "Epoch 21/25\n",
            "782/782 [==============================] - 3s 4ms/step - loss: 0.8286 - accuracy: 0.7143 - val_loss: 0.9262 - val_accuracy: 0.6875\n",
            "Epoch 22/25\n",
            "782/782 [==============================] - 3s 4ms/step - loss: 0.8133 - accuracy: 0.7134 - val_loss: 0.9250 - val_accuracy: 0.6875\n",
            "Epoch 23/25\n",
            "782/782 [==============================] - 3s 4ms/step - loss: 0.8015 - accuracy: 0.7202 - val_loss: 0.8731 - val_accuracy: 0.7007\n",
            "Epoch 24/25\n",
            "782/782 [==============================] - 3s 4ms/step - loss: 0.7882 - accuracy: 0.7236 - val_loss: 0.8722 - val_accuracy: 0.6968\n",
            "Epoch 25/25\n",
            "782/782 [==============================] - 3s 4ms/step - loss: 0.7764 - accuracy: 0.7303 - val_loss: 0.9266 - val_accuracy: 0.6864\n"
          ],
          "name": "stdout"
        }
      ]
    },
    {
      "cell_type": "code",
      "metadata": {
        "colab": {
          "base_uri": "https://localhost:8080/",
          "height": 545
        },
        "id": "pKra9AUdWOOa",
        "outputId": "dda8766c-2007-463f-f45d-d57751a33c31"
      },
      "source": [
        "import matplotlib.pyplot as plt\n",
        "%matplotlib inline\n",
        "acc = history1.history['accuracy']\n",
        "val_acc = history1.history['val_accuracy']\n",
        "loss = history1.history['loss']\n",
        "val_loss = history1.history['val_loss']\n",
        "\n",
        "epochs = range(len(acc))\n",
        "\n",
        "plt.plot(epochs, acc, 'bo', label='Training acc')\n",
        "plt.plot(epochs, val_acc, 'b', label='Validation acc')\n",
        "plt.title('Training and validation accuracy')\n",
        "plt.legend()\n",
        "\n",
        "plt.figure()\n",
        "\n",
        "plt.plot(epochs, loss, 'bo', label='Training loss')\n",
        "plt.plot(epochs, val_loss, 'b', label='Validation loss')\n",
        "plt.title('Training and validation loss')\n",
        "plt.legend()\n",
        "\n",
        "plt.show()"
      ],
      "execution_count": null,
      "outputs": [
        {
          "output_type": "display_data",
          "data": {
            "image/png": "[encoded data removed]",
            "text/plain": [
              "<Figure size 432x288 with 1 Axes>"
            ]
          },
          "metadata": {
            "tags": [],
            "needs_background": "light"
          }
        },
        {
          "output_type": "display_data",
          "data": {
            "image/png": "[encoded data removed]",
            "text/plain": [
              "<Figure size 432x288 with 1 Axes>"
            ]
          },
          "metadata": {
            "tags": [],
            "needs_background": "light"
          }
        }
      ]
    },
    {
      "cell_type": "markdown",
      "metadata": {
        "id": "USEauAxRY9ds"
      },
      "source": [
        "callbacks=[early_stopping]"
      ]
    }
  ]
}