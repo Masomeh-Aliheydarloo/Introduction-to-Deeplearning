{
  "nbformat": 4,
  "nbformat_minor": 0,
  "metadata": {
    "anaconda-cloud": {},
    "colab": {
      "name": "ex1-2_Fashion_MNIST.ipynb",
      "provenance": [],
      "collapsed_sections": []
    },
    "kernelspec": {
      "display_name": "Python 3",
      "language": "python",
      "name": "python3"
    },
    "language_info": {
      "codemirror_mode": {
        "name": "ipython",
        "version": 3
      },
      "file_extension": ".py",
      "mimetype": "text/x-python",
      "name": "python",
      "nbconvert_exporter": "python",
      "pygments_lexer": "ipython3",
      "version": "3.7.6"
    },
    "nbpresent": {
      "slides": {
        "300ee14f-a043-486e-b274-7ff253907cd7": {
          "id": "300ee14f-a043-486e-b274-7ff253907cd7",
          "prev": "cb74e0bc-4513-4d13-b7f1-14c3078a7927",
          "regions": {
            "26dc3f39-a230-447c-af4c-f5e5b2fb7835": {
              "attrs": {
                "height": 0.8,
                "width": 0.8,
                "x": 0.1,
                "y": 0.1
              },
              "content": {
                "cell": "c58440a5-3f8f-4f37-9c79-6bf766209406",
                "part": "whole"
              },
              "id": "26dc3f39-a230-447c-af4c-f5e5b2fb7835"
            }
          }
        },
        "878aa53a-1444-4100-8f50-7a408191c579": {
          "id": "878aa53a-1444-4100-8f50-7a408191c579",
          "prev": null,
          "regions": {
            "a6c6843a-5ea6-4fbc-b890-3b4b8ae475b3": {
              "attrs": {
                "height": 0.8,
                "width": 0.8,
                "x": 0.1,
                "y": 0.1
              },
              "content": {
                "cell": "588ee1fa-64b5-453b-ade7-8e6b2515821c",
                "part": "whole"
              },
              "id": "a6c6843a-5ea6-4fbc-b890-3b4b8ae475b3"
            }
          }
        },
        "96ffe88e-7b50-43de-afdd-942e564f4e3e": {
          "id": "96ffe88e-7b50-43de-afdd-942e564f4e3e",
          "prev": "878aa53a-1444-4100-8f50-7a408191c579",
          "regions": {
            "b7e52e12-489a-468d-b10c-af2024fd2856": {
              "attrs": {
                "height": 0.8,
                "width": 0.8,
                "x": 0.1,
                "y": 0.1
              },
              "content": {
                "cell": "de829a92-1fb6-44ad-a2c6-fc1001e1f6e1",
                "part": "whole"
              },
              "id": "b7e52e12-489a-468d-b10c-af2024fd2856"
            }
          }
        },
        "cb74e0bc-4513-4d13-b7f1-14c3078a7927": {
          "id": "cb74e0bc-4513-4d13-b7f1-14c3078a7927",
          "prev": "96ffe88e-7b50-43de-afdd-942e564f4e3e",
          "regions": {
            "444878ee-68f3-4abb-acff-a7079b21e86d": {
              "attrs": {
                "height": 0.8,
                "width": 0.8,
                "x": 0.1,
                "y": 0.1
              },
              "content": {
                "cell": "25f3f538-1ee8-4d98-a6bb-14cbeb7a702d",
                "part": "whole"
              },
              "id": "444878ee-68f3-4abb-acff-a7079b21e86d"
            }
          }
        }
      },
      "themes": {}
    }
  },
  "cells": [
    {
      "cell_type": "markdown",
      "metadata": {
        "id": "HegYfh5SbfpE"
      },
      "source": [
        "<center><div style=\"direction:rtl;font-family:B Lotus, B Nazanin, Tahoma\">به نام خدا</div></center>\n",
        "\n",
        "<h1><center><div style=\"direction:rtl;font-family:B Lotus, B Nazanin, Tahoma\">دیتاست Fashion MNIST</div></center></h1>"
      ]
    },
    {
      "cell_type": "markdown",
      "metadata": {
        "id": "KT_EZmqhdspj"
      },
      "source": [
        "https://www.tensorflow.org/tutorials/keras/classification"
      ]
    },
    {
      "cell_type": "code",
      "metadata": {
        "id": "XhJRB72DbfpH"
      },
      "source": [
        "import keras\n",
        "from keras.models import Sequential\n",
        "from keras.layers import Dense,  Activation,Flatten,Dropout\n",
        "# TensorFlow and tf.keras\n",
        "import tensorflow as tf\n",
        "\n",
        "# Helper libraries\n",
        "import numpy as np\n",
        "import matplotlib.pyplot as plt"
      ],
      "execution_count": null,
      "outputs": []
    },
    {
      "cell_type": "code",
      "metadata": {
        "id": "4vNvqk3xaJMb"
      },
      "source": [
        "fashion_mnist = tf.keras.datasets.fashion_mnist"
      ],
      "execution_count": null,
      "outputs": []
    },
    {
      "cell_type": "code",
      "metadata": {
        "id": "ij_6yZC6bfpR"
      },
      "source": [
        "np.random.seed(123)  # for reproducibility"
      ],
      "execution_count": null,
      "outputs": []
    },
    {
      "cell_type": "markdown",
      "metadata": {
        "id": "8gIg6dfTbfpW"
      },
      "source": [
        "## Explore the data:"
      ]
    },
    {
      "cell_type": "code",
      "metadata": {
        "id": "x2mN_B1KbfpX"
      },
      "source": [
        "(x_train,y_train), (x_test, y_test) = fashion_mnist.load_data()"
      ],
      "execution_count": null,
      "outputs": []
    },
    {
      "cell_type": "code",
      "metadata": {
        "colab": {
          "base_uri": "https://localhost:8080/"
        },
        "id": "VeHM22AQL2TF",
        "outputId": "3064b374-67c9-48ab-81c7-1be07c27cb52"
      },
      "source": [
        "x_train.shape"
      ],
      "execution_count": null,
      "outputs": [
        {
          "output_type": "execute_result",
          "data": {
            "text/plain": [
              "(60000, 28, 28)"
            ]
          },
          "metadata": {
            "tags": []
          },
          "execution_count": 38
        }
      ]
    },
    {
      "cell_type": "code",
      "metadata": {
        "colab": {
          "base_uri": "https://localhost:8080/"
        },
        "id": "RZR6HLqwMQPy",
        "outputId": "e557fe1d-fba7-4e3f-c451-e0a45ad51c72"
      },
      "source": [
        "len(y_train)"
      ],
      "execution_count": null,
      "outputs": [
        {
          "output_type": "execute_result",
          "data": {
            "text/plain": [
              "60000"
            ]
          },
          "metadata": {
            "tags": []
          },
          "execution_count": 39
        }
      ]
    },
    {
      "cell_type": "code",
      "metadata": {
        "colab": {
          "base_uri": "https://localhost:8080/"
        },
        "id": "KkIInj13MYgj",
        "outputId": "d80b4b52-6bd2-44e6-d360-b05e6599a352"
      },
      "source": [
        "#Each label is an integer between 0 and 9:#The number of classes\n",
        "np.unique(y_train)"
      ],
      "execution_count": null,
      "outputs": [
        {
          "output_type": "execute_result",
          "data": {
            "text/plain": [
              "array([0, 1, 2, 3, 4, 5, 6, 7, 8, 9], dtype=uint8)"
            ]
          },
          "metadata": {
            "tags": []
          },
          "execution_count": 40
        }
      ]
    },
    {
      "cell_type": "code",
      "metadata": {
        "colab": {
          "base_uri": "https://localhost:8080/"
        },
        "id": "LXb5WIErMYoA",
        "outputId": "2ebb0965-f103-4b19-c33b-4fd11da783ca"
      },
      "source": [
        "x_test.shape"
      ],
      "execution_count": null,
      "outputs": [
        {
          "output_type": "execute_result",
          "data": {
            "text/plain": [
              "(10000, 28, 28)"
            ]
          },
          "metadata": {
            "tags": []
          },
          "execution_count": 41
        }
      ]
    },
    {
      "cell_type": "markdown",
      "metadata": {
        "id": "H4sBtmbVbfpb"
      },
      "source": [
        "## Process the data:"
      ]
    },
    {
      "cell_type": "code",
      "metadata": {
        "colab": {
          "base_uri": "https://localhost:8080/",
          "height": 265
        },
        "id": "DWSdQ6V6crO6",
        "outputId": "99d5b616-600f-472e-bc53-37acbbc87853"
      },
      "source": [
        "plt.figure()\n",
        "plt.imshow(x_train[0])\n",
        "plt.colorbar()\n",
        "plt.grid(False)\n",
        "plt.show()"
      ],
      "execution_count": null,
      "outputs": [
        {
          "output_type": "display_data",
          "data": {
            "image/png": "[encoded data removed]",
            "text/plain": [
              "<Figure size 432x288 with 2 Axes>"
            ]
          },
          "metadata": {
            "tags": []
          }
        }
      ]
    },
    {
      "cell_type": "code",
      "metadata": {
        "colab": {
          "base_uri": "https://localhost:8080/",
          "height": 265
        },
        "id": "Bi_6GYdIcxzj",
        "outputId": "11cf2cd9-f296-4535-8296-13f9570994b4"
      },
      "source": [
        "plt.figure()\n",
        "plt.imshow(x_train[100])\n",
        "plt.colorbar()\n",
        "plt.grid(False)\n",
        "plt.show()"
      ],
      "execution_count": null,
      "outputs": [
        {
          "output_type": "display_data",
          "data": {
            "image/png": "[encoded data removed]",
            "text/plain": [
              "<Figure size 432x288 with 2 Axes>"
            ]
          },
          "metadata": {
            "tags": []
          }
        }
      ]
    },
    {
      "cell_type": "code",
      "metadata": {
        "id": "Pk3ftjfabfpt"
      },
      "source": [
        "x_train = x_train / 255.0\n",
        "\n",
        "x_test = x_test / 255.0"
      ],
      "execution_count": null,
      "outputs": []
    },
    {
      "cell_type": "code",
      "metadata": {
        "colab": {
          "base_uri": "https://localhost:8080/"
        },
        "id": "dtd5nOx5i1iw",
        "outputId": "be651b42-cf9c-4273-cdcf-346d473122c9"
      },
      "source": [
        "x_train.shape"
      ],
      "execution_count": null,
      "outputs": [
        {
          "output_type": "execute_result",
          "data": {
            "text/plain": [
              "(60000, 28, 28)"
            ]
          },
          "metadata": {
            "tags": []
          },
          "execution_count": 57
        }
      ]
    },
    {
      "cell_type": "code",
      "metadata": {
        "id": "vRKrNqbGj2ua"
      },
      "source": [
        "y_train = keras.utils.to_categorical(y_train, num_classes=10) #change one hot encoder\n",
        "y_test = keras.utils.to_categorical(y_test, num_classes=10)"
      ],
      "execution_count": null,
      "outputs": []
    },
    {
      "cell_type": "code",
      "metadata": {
        "colab": {
          "base_uri": "https://localhost:8080/"
        },
        "id": "KXbktpuCkYbB",
        "outputId": "b650b8b1-868a-44b5-aab9-6a351a07d649"
      },
      "source": [
        "y_train.shape"
      ],
      "execution_count": null,
      "outputs": [
        {
          "output_type": "execute_result",
          "data": {
            "text/plain": [
              "(60000, 10)"
            ]
          },
          "metadata": {
            "tags": []
          },
          "execution_count": 106
        }
      ]
    },
    {
      "cell_type": "markdown",
      "metadata": {
        "id": "E98J3kypbfpx"
      },
      "source": [
        "## Build the model:"
      ]
    },
    {
      "cell_type": "code",
      "metadata": {
        "id": "sOLwV9_jbfpx"
      },
      "source": [
        "image_shape = (28, 28)\n",
        "model = Sequential()\n",
        "model.add(Flatten(input_shape=(28, 28)))\n",
        "model.add(Dense(64, activation='relu'))\n",
        "model.add(Dense(10, activation='softmax'))"
      ],
      "execution_count": null,
      "outputs": []
    },
    {
      "cell_type": "code",
      "metadata": {
        "colab": {
          "base_uri": "https://localhost:8080/"
        },
        "id": "zHQIzqiVbfp1",
        "outputId": "bd5934f3-5190-4cae-ca19-c7fb7ef65057"
      },
      "source": [
        "model.summary()"
      ],
      "execution_count": null,
      "outputs": [
        {
          "output_type": "stream",
          "text": [
            "Model: \"sequential_2\"\n",
            "_________________________________________________________________\n",
            "Layer (type)                 Output Shape              Param #   \n",
            "=================================================================\n",
            "flatten_2 (Flatten)          (None, 784)               0         \n",
            "_________________________________________________________________\n",
            "dense_4 (Dense)              (None, 64)                50240     \n",
            "_________________________________________________________________\n",
            "dense_5 (Dense)              (None, 10)                650       \n",
            "=================================================================\n",
            "Total params: 50,890\n",
            "Trainable params: 50,890\n",
            "Non-trainable params: 0\n",
            "_________________________________________________________________\n"
          ],
          "name": "stdout"
        }
      ]
    },
    {
      "cell_type": "markdown",
      "metadata": {
        "id": "m3lJ7UqDbfp6"
      },
      "source": [
        "## <div style=\"direction:rtl;text-align:right;font-family:B Lotus, B Nazanin, Tahoma\">Compile model</div>\n"
      ]
    },
    {
      "cell_type": "code",
      "metadata": {
        "id": "8G48OEwkbfp7"
      },
      "source": [
        "model.compile(loss='categorical_crossentropy',\n",
        "              optimizer='adam',\n",
        "              metrics=['accuracy'])"
      ],
      "execution_count": null,
      "outputs": []
    },
    {
      "cell_type": "markdown",
      "metadata": {
        "id": "L_cCcDynbfp_"
      },
      "source": [
        "## Feed the model\n"
      ]
    },
    {
      "cell_type": "code",
      "metadata": {
        "colab": {
          "base_uri": "https://localhost:8080/"
        },
        "id": "eSLtfDMGbfqA",
        "outputId": "05ce1b29-1b95-459d-8f8f-9b9f814d51e3"
      },
      "source": [
        "model.fit(x_train, y_train,\n",
        "          epochs=10,\n",
        "          batch_size=64, validation_split=0.2\n",
        "          )    "
      ],
      "execution_count": null,
      "outputs": [
        {
          "output_type": "stream",
          "text": [
            "Epoch 1/10\n",
            "750/750 [==============================] - 2s 2ms/step - loss: 0.7614 - accuracy: 0.7488 - val_loss: 0.4544 - val_accuracy: 0.8435\n",
            "Epoch 2/10\n",
            "750/750 [==============================] - 2s 2ms/step - loss: 0.4319 - accuracy: 0.8471 - val_loss: 0.4061 - val_accuracy: 0.8533\n",
            "Epoch 3/10\n",
            "750/750 [==============================] - 2s 2ms/step - loss: 0.3876 - accuracy: 0.8632 - val_loss: 0.3987 - val_accuracy: 0.8575\n",
            "Epoch 4/10\n",
            "750/750 [==============================] - 2s 2ms/step - loss: 0.3621 - accuracy: 0.8724 - val_loss: 0.3656 - val_accuracy: 0.8723\n",
            "Epoch 5/10\n",
            "750/750 [==============================] - 2s 2ms/step - loss: 0.3325 - accuracy: 0.8784 - val_loss: 0.3662 - val_accuracy: 0.8690\n",
            "Epoch 6/10\n",
            "750/750 [==============================] - 2s 2ms/step - loss: 0.3249 - accuracy: 0.8833 - val_loss: 0.3601 - val_accuracy: 0.8742\n",
            "Epoch 7/10\n",
            "750/750 [==============================] - 2s 2ms/step - loss: 0.3085 - accuracy: 0.8878 - val_loss: 0.3541 - val_accuracy: 0.8752\n",
            "Epoch 8/10\n",
            "750/750 [==============================] - 2s 2ms/step - loss: 0.3004 - accuracy: 0.8900 - val_loss: 0.3610 - val_accuracy: 0.8727\n",
            "Epoch 9/10\n",
            "750/750 [==============================] - 2s 2ms/step - loss: 0.2855 - accuracy: 0.8968 - val_loss: 0.3301 - val_accuracy: 0.8827\n",
            "Epoch 10/10\n",
            "750/750 [==============================] - 2s 2ms/step - loss: 0.2812 - accuracy: 0.8961 - val_loss: 0.3412 - val_accuracy: 0.8807\n"
          ],
          "name": "stdout"
        },
        {
          "output_type": "execute_result",
          "data": {
            "text/plain": [
              "<tensorflow.python.keras.callbacks.History at 0x7f8f75b05828>"
            ]
          },
          "metadata": {
            "tags": []
          },
          "execution_count": 24
        }
      ]
    },
    {
      "cell_type": "markdown",
      "metadata": {
        "id": "Ijc3VpfebfqE"
      },
      "source": [
        "## Evaluate Accuracy"
      ]
    },
    {
      "cell_type": "code",
      "metadata": {
        "colab": {
          "base_uri": "https://localhost:8080/",
          "height": 282
        },
        "id": "F75TP1P5ANcG",
        "outputId": "b824b645-e29b-492e-fab7-b861ee175daf"
      },
      "source": [
        "#plot the loss\n",
        "import pandas as pd\n",
        "loss_df=pd.DataFrame(model.history.history)\n",
        "loss_df.plot()"
      ],
      "execution_count": null,
      "outputs": [
        {
          "output_type": "execute_result",
          "data": {
            "text/plain": [
              "<matplotlib.axes._subplots.AxesSubplot at 0x7f8f72960d68>"
            ]
          },
          "metadata": {
            "tags": []
          },
          "execution_count": 25
        },
        {
          "output_type": "display_data",
          "data": {
            "image/png": "[encoded data removed]",
            "text/plain": [
              "<Figure size 432x288 with 1 Axes>"
            ]
          },
          "metadata": {
            "tags": [],
            "needs_background": "light"
          }
        }
      ]
    },
    {
      "cell_type": "code",
      "metadata": {
        "colab": {
          "base_uri": "https://localhost:8080/"
        },
        "id": "WmaNU4BQo6vn",
        "outputId": "ce142a2a-5151-4b71-cb72-b60e3d141805"
      },
      "source": [
        "test_loss, test_acc = model.evaluate(x_test, y_test,verbose=0)\n",
        "print('\\nTesting loss: %.2f, acc: %.2f%%'%(test_loss, test_acc))"
      ],
      "execution_count": null,
      "outputs": [
        {
          "output_type": "stream",
          "text": [
            "\n",
            "Testing loss: 0.36, acc: 0.87%\n"
          ],
          "name": "stdout"
        }
      ]
    },
    {
      "cell_type": "code",
      "metadata": {
        "colab": {
          "base_uri": "https://localhost:8080/"
        },
        "id": "W_b80RRFB5pq",
        "outputId": "225890ea-8a07-4d55-ba3b-f783d72f28cc"
      },
      "source": [
        "train_loss, train_acc = model.evaluate(x_train, y_train)\n",
        "print('\\nTraining loss: %.2f, acc: %.2f%%'%(train_loss, train_acc))"
      ],
      "execution_count": null,
      "outputs": [
        {
          "output_type": "stream",
          "text": [
            "1875/1875 [==============================] - 3s 1ms/step - loss: 0.2817 - accuracy: 0.8978\n",
            "\n",
            "Training loss: 0.28, acc: 0.90%\n"
          ],
          "name": "stdout"
        }
      ]
    },
    {
      "cell_type": "markdown",
      "metadata": {
        "id": "V0njs7RGI-tH"
      },
      "source": [
        "## Convolutional Model"
      ]
    },
    {
      "cell_type": "code",
      "metadata": {
        "id": "_6CFBErYS4rf"
      },
      "source": [
        "#(n_samples, height, width, channels)\n",
        "x_train = x_train.reshape(-1, 28, 28, 1)\n",
        "x_test = x_test.reshape(-1, 28, 28, 1)\n",
        "#x_train = tf.expand_dims(x_train, axis=-1)\n",
        "#x_test = tf.expand_dims(x_test, axis=-1)"
      ],
      "execution_count": null,
      "outputs": []
    },
    {
      "cell_type": "code",
      "metadata": {
        "colab": {
          "base_uri": "https://localhost:8080/"
        },
        "id": "myFxl6E9ldMg",
        "outputId": "91c28eff-243e-48a9-a4fe-62b782212d8a"
      },
      "source": [
        "x_train.shape"
      ],
      "execution_count": null,
      "outputs": [
        {
          "output_type": "execute_result",
          "data": {
            "text/plain": [
              "(60000, 28, 28, 1)"
            ]
          },
          "metadata": {
            "tags": []
          },
          "execution_count": 108
        }
      ]
    },
    {
      "cell_type": "code",
      "metadata": {
        "colab": {
          "base_uri": "https://localhost:8080/"
        },
        "id": "--FNo0rDk_GJ",
        "outputId": "d38aad35-c0bb-4d70-80d1-c315909fbd74"
      },
      "source": [
        "x_test.shape"
      ],
      "execution_count": null,
      "outputs": [
        {
          "output_type": "execute_result",
          "data": {
            "text/plain": [
              "(10000, 28, 28, 1)"
            ]
          },
          "metadata": {
            "tags": []
          },
          "execution_count": 109
        }
      ]
    },
    {
      "cell_type": "code",
      "metadata": {
        "colab": {
          "base_uri": "https://localhost:8080/"
        },
        "id": "7SmdH1QNwnkj",
        "outputId": "081fe766-b337-4894-99e7-75438c274c38"
      },
      "source": [
        "y_train.shape"
      ],
      "execution_count": null,
      "outputs": [
        {
          "output_type": "execute_result",
          "data": {
            "text/plain": [
              "(60000, 10)"
            ]
          },
          "metadata": {
            "tags": []
          },
          "execution_count": 110
        }
      ]
    },
    {
      "cell_type": "code",
      "metadata": {
        "id": "debLA6gwJJna"
      },
      "source": [
        "from keras import layers\n",
        "from keras.models import Sequential\n",
        "from keras.layers import Dense, Dropout, Activation\n",
        "\n",
        "model1 = Sequential()\n",
        "model1.add(layers.Conv2D(32, (3, 3), activation='relu',input_shape=(28, 28,1)))\n",
        "model1.add(layers.MaxPooling2D((2, 2)))\n",
        "model1.add(layers.Conv2D(64, (3, 3), activation='relu'))\n",
        "model1.add(layers.MaxPooling2D((2, 2)))\n",
        "model1.add(layers.Conv2D(64, (3, 3), activation='relu'))\n",
        "model1.add(layers.Flatten())\n",
        "model1.add(layers.Dense(64, activation='relu'))\n",
        "model1.add(Dropout(0.5))\n",
        "model1.add(layers.Dense(10, activation='softmax'))"
      ],
      "execution_count": null,
      "outputs": []
    },
    {
      "cell_type": "code",
      "metadata": {
        "colab": {
          "base_uri": "https://localhost:8080/"
        },
        "id": "83MbhHfwJiCZ",
        "outputId": "6403bf6a-4d2e-45ea-d3e0-ec502976cbbd"
      },
      "source": [
        "model1.summary()"
      ],
      "execution_count": null,
      "outputs": [
        {
          "output_type": "stream",
          "text": [
            "Model: \"sequential_9\"\n",
            "_________________________________________________________________\n",
            "Layer (type)                 Output Shape              Param #   \n",
            "=================================================================\n",
            "conv2d_15 (Conv2D)           (None, 26, 26, 32)        320       \n",
            "_________________________________________________________________\n",
            "max_pooling2d_10 (MaxPooling (None, 13, 13, 32)        0         \n",
            "_________________________________________________________________\n",
            "conv2d_16 (Conv2D)           (None, 11, 11, 64)        18496     \n",
            "_________________________________________________________________\n",
            "max_pooling2d_11 (MaxPooling (None, 5, 5, 64)          0         \n",
            "_________________________________________________________________\n",
            "conv2d_17 (Conv2D)           (None, 3, 3, 64)          36928     \n",
            "_________________________________________________________________\n",
            "flatten_8 (Flatten)          (None, 576)               0         \n",
            "_________________________________________________________________\n",
            "dense_16 (Dense)             (None, 64)                36928     \n",
            "_________________________________________________________________\n",
            "dropout_5 (Dropout)          (None, 64)                0         \n",
            "_________________________________________________________________\n",
            "dense_17 (Dense)             (None, 10)                650       \n",
            "=================================================================\n",
            "Total params: 93,322\n",
            "Trainable params: 93,322\n",
            "Non-trainable params: 0\n",
            "_________________________________________________________________\n"
          ],
          "name": "stdout"
        }
      ]
    },
    {
      "cell_type": "code",
      "metadata": {
        "id": "0ybIbscoMuK8"
      },
      "source": [
        "model1.compile(loss='categorical_crossentropy',\n",
        "              optimizer='adam',\n",
        "              metrics=['accuracy'])"
      ],
      "execution_count": null,
      "outputs": []
    },
    {
      "cell_type": "code",
      "metadata": {
        "colab": {
          "base_uri": "https://localhost:8080/"
        },
        "id": "zwVnoEtvMuK_",
        "outputId": "f6221dbf-99c0-43ec-9566-51fc421f62c7"
      },
      "source": [
        "model1.fit(x_train_con, y_train, epochs=10, batch_size=64, validation_split=0.2 )    "
      ],
      "execution_count": null,
      "outputs": [
        {
          "output_type": "stream",
          "text": [
            "Epoch 1/10\n",
            "750/750 [==============================] - 41s 54ms/step - loss: 1.0494 - accuracy: 0.6200 - val_loss: 0.4504 - val_accuracy: 0.8320\n",
            "Epoch 2/10\n",
            "750/750 [==============================] - 40s 54ms/step - loss: 0.5173 - accuracy: 0.8134 - val_loss: 0.3733 - val_accuracy: 0.8618\n",
            "Epoch 3/10\n",
            "750/750 [==============================] - 41s 55ms/step - loss: 0.4249 - accuracy: 0.8475 - val_loss: 0.3411 - val_accuracy: 0.8766\n",
            "Epoch 4/10\n",
            "750/750 [==============================] - 42s 56ms/step - loss: 0.3777 - accuracy: 0.8687 - val_loss: 0.3179 - val_accuracy: 0.8812\n",
            "Epoch 5/10\n",
            "750/750 [==============================] - 42s 56ms/step - loss: 0.3512 - accuracy: 0.8762 - val_loss: 0.3065 - val_accuracy: 0.8840\n",
            "Epoch 6/10\n",
            "750/750 [==============================] - 42s 55ms/step - loss: 0.3232 - accuracy: 0.8869 - val_loss: 0.2862 - val_accuracy: 0.8940\n",
            "Epoch 7/10\n",
            "750/750 [==============================] - 42s 56ms/step - loss: 0.2978 - accuracy: 0.8950 - val_loss: 0.2800 - val_accuracy: 0.8972\n",
            "Epoch 8/10\n",
            "750/750 [==============================] - 42s 56ms/step - loss: 0.2822 - accuracy: 0.9020 - val_loss: 0.2684 - val_accuracy: 0.9022\n",
            "Epoch 9/10\n",
            "750/750 [==============================] - 42s 55ms/step - loss: 0.2654 - accuracy: 0.9050 - val_loss: 0.2824 - val_accuracy: 0.9007\n",
            "Epoch 10/10\n",
            "750/750 [==============================] - 42s 56ms/step - loss: 0.2573 - accuracy: 0.9076 - val_loss: 0.2633 - val_accuracy: 0.9056\n"
          ],
          "name": "stdout"
        },
        {
          "output_type": "execute_result",
          "data": {
            "text/plain": [
              "<tensorflow.python.keras.callbacks.History at 0x7f8f747e0128>"
            ]
          },
          "metadata": {
            "tags": []
          },
          "execution_count": 113
        }
      ]
    }
  ]
}