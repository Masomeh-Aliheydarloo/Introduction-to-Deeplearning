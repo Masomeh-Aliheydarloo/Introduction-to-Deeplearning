{
 "cells": [
  {
   "cell_type": "code",
   "execution_count": 1,
   "metadata": {},
   "outputs": [],
   "source": [
    "import tensorflow as tf\n",
    "from tensorflow import keras\n",
    "from tensorflow.keras.callbacks import ModelCheckpoint\n",
    "import os"
   ]
  },
  {
   "cell_type": "code",
   "execution_count": 2,
   "metadata": {},
   "outputs": [
    {
     "name": "stderr",
     "output_type": "stream",
     "text": [
      "Using TensorFlow backend.\n"
     ]
    }
   ],
   "source": [
    "from keras.datasets import mnist\n",
    "\n",
    "(train_images, train_labels), (test_images, test_labels) =  mnist.load_data()"
   ]
  },
  {
   "cell_type": "code",
   "execution_count": 3,
   "metadata": {},
   "outputs": [],
   "source": [
    "train_labels = train_labels[:1000]\n",
    "test_labels = test_labels[:1000]\n",
    "train_images = train_images[:1000].reshape(-1, 28 * 28) / 255.0\n",
    "test_images = test_images[:1000].reshape(-1, 28 * 28) / 255.0"
   ]
  },
  {
   "cell_type": "code",
   "execution_count": 4,
   "metadata": {},
   "outputs": [],
   "source": [
    "# Define a simple sequential model\n",
    "def create_model():\n",
    "    model = tf.keras.models.Sequential([\n",
    "        keras.layers.Dense(512, activation='relu', input_shape=(784,)),\n",
    "        keras.layers.Dropout(0.2),\n",
    "        keras.layers.Dense(10, activation='softmax')\n",
    "        ])\n",
    "    model.compile(optimizer='adam',\n",
    "                  loss='sparse_categorical_crossentropy',\n",
    "                  metrics=['accuracy'])\n",
    "    return model"
   ]
  },
  {
   "cell_type": "code",
   "execution_count": 5,
   "metadata": {},
   "outputs": [],
   "source": [
    "# Create a basic model instance\n",
    "model = create_model()"
   ]
  },
  {
   "cell_type": "markdown",
   "metadata": {},
   "source": [
    "### Define checkpoint path and checkpoint directory"
   ]
  },
  {
   "cell_type": "code",
   "execution_count": 6,
   "metadata": {},
   "outputs": [],
   "source": [
    "# Include the epoch in the file name (uses `str.format`)\n",
    "checkpoint_path = \"training_2/cp-{epoch:04d}.ckpt\"\n",
    "checkpoint_dir = os.path.dirname(checkpoint_path)#previoulsy, checkpoint_path = \"training_1/cp.ckpt\""
   ]
  },
  {
   "cell_type": "markdown",
   "metadata": {},
   "source": [
    "### Create a callback that saves model’s weights"
   ]
  },
  {
   "cell_type": "code",
   "execution_count": 7,
   "metadata": {},
   "outputs": [
    {
     "name": "stdout",
     "output_type": "stream",
     "text": [
      "WARNING:tensorflow:`period` argument is deprecated. Please use `save_freq` to specify the frequency in number of samples seen.\n"
     ]
    }
   ],
   "source": [
    "# Create a callback that saves the model's weights every 5 epochs\n",
    "cp_callback = ModelCheckpoint(\n",
    "    filepath=checkpoint_path, \n",
    "    verbose=1, \n",
    "    save_weights_only=True,\n",
    "    save_freq='epoch', period=5)"
   ]
  },
  {
   "cell_type": "markdown",
   "metadata": {},
   "source": [
    "### Create a new model and model fitting with a new callback (training)"
   ]
  },
  {
   "cell_type": "code",
   "execution_count": 8,
   "metadata": {},
   "outputs": [
    {
     "name": "stdout",
     "output_type": "stream",
     "text": [
      "Train on 1000 samples, validate on 1000 samples\n",
      "Epoch 1/50\n",
      "1000/1000 - 2s - loss: 1.1937 - accuracy: 0.6590 - val_loss: 0.7282 - val_accuracy: 0.7760\n",
      "Epoch 2/50\n",
      "1000/1000 - 1s - loss: 0.4349 - accuracy: 0.8800 - val_loss: 0.5158 - val_accuracy: 0.8440\n",
      "Epoch 3/50\n",
      "1000/1000 - 1s - loss: 0.2928 - accuracy: 0.9250 - val_loss: 0.4768 - val_accuracy: 0.8540\n",
      "Epoch 4/50\n",
      "1000/1000 - 1s - loss: 0.1998 - accuracy: 0.9590 - val_loss: 0.4576 - val_accuracy: 0.8610\n",
      "Epoch 5/50\n",
      "\n",
      "Epoch 00005: saving model to training_2/cp-0005.ckpt\n",
      "1000/1000 - 1s - loss: 0.1569 - accuracy: 0.9690 - val_loss: 0.4517 - val_accuracy: 0.8450\n",
      "Epoch 6/50\n",
      "1000/1000 - 1s - loss: 0.1279 - accuracy: 0.9740 - val_loss: 0.4261 - val_accuracy: 0.8660\n",
      "Epoch 7/50\n",
      "1000/1000 - 1s - loss: 0.0910 - accuracy: 0.9840 - val_loss: 0.4116 - val_accuracy: 0.8640\n",
      "Epoch 8/50\n",
      "1000/1000 - 1s - loss: 0.0646 - accuracy: 0.9950 - val_loss: 0.4138 - val_accuracy: 0.8640\n",
      "Epoch 9/50\n",
      "1000/1000 - 1s - loss: 0.0477 - accuracy: 0.9960 - val_loss: 0.4171 - val_accuracy: 0.8680\n",
      "Epoch 10/50\n",
      "\n",
      "Epoch 00010: saving model to training_2/cp-0010.ckpt\n",
      "1000/1000 - 1s - loss: 0.0458 - accuracy: 0.9990 - val_loss: 0.4067 - val_accuracy: 0.8700\n",
      "Epoch 11/50\n",
      "1000/1000 - 1s - loss: 0.0328 - accuracy: 0.9980 - val_loss: 0.4305 - val_accuracy: 0.8720\n",
      "Epoch 12/50\n",
      "1000/1000 - 1s - loss: 0.0270 - accuracy: 0.9990 - val_loss: 0.4273 - val_accuracy: 0.8690\n",
      "Epoch 13/50\n",
      "1000/1000 - 1s - loss: 0.0222 - accuracy: 1.0000 - val_loss: 0.4245 - val_accuracy: 0.8690\n",
      "Epoch 14/50\n",
      "1000/1000 - 1s - loss: 0.0166 - accuracy: 1.0000 - val_loss: 0.4202 - val_accuracy: 0.8690\n",
      "Epoch 15/50\n",
      "\n",
      "Epoch 00015: saving model to training_2/cp-0015.ckpt\n",
      "1000/1000 - 1s - loss: 0.0154 - accuracy: 1.0000 - val_loss: 0.4134 - val_accuracy: 0.8760\n",
      "Epoch 16/50\n",
      "1000/1000 - 1s - loss: 0.0122 - accuracy: 1.0000 - val_loss: 0.4266 - val_accuracy: 0.8700\n",
      "Epoch 17/50\n",
      "1000/1000 - 1s - loss: 0.0111 - accuracy: 1.0000 - val_loss: 0.4369 - val_accuracy: 0.8710\n",
      "Epoch 18/50\n",
      "1000/1000 - 1s - loss: 0.0101 - accuracy: 1.0000 - val_loss: 0.4330 - val_accuracy: 0.8700\n",
      "Epoch 19/50\n",
      "1000/1000 - 1s - loss: 0.0090 - accuracy: 1.0000 - val_loss: 0.4365 - val_accuracy: 0.8760\n",
      "Epoch 20/50\n",
      "\n",
      "Epoch 00020: saving model to training_2/cp-0020.ckpt\n",
      "1000/1000 - 1s - loss: 0.0077 - accuracy: 1.0000 - val_loss: 0.4472 - val_accuracy: 0.8670\n",
      "Epoch 21/50\n",
      "1000/1000 - 1s - loss: 0.0068 - accuracy: 1.0000 - val_loss: 0.4358 - val_accuracy: 0.8700\n",
      "Epoch 22/50\n",
      "1000/1000 - 1s - loss: 0.0067 - accuracy: 1.0000 - val_loss: 0.4513 - val_accuracy: 0.8680\n",
      "Epoch 23/50\n",
      "1000/1000 - 1s - loss: 0.0061 - accuracy: 1.0000 - val_loss: 0.4346 - val_accuracy: 0.8800\n",
      "Epoch 24/50\n",
      "1000/1000 - 1s - loss: 0.0055 - accuracy: 1.0000 - val_loss: 0.4537 - val_accuracy: 0.8670\n",
      "Epoch 25/50\n",
      "\n",
      "Epoch 00025: saving model to training_2/cp-0025.ckpt\n",
      "1000/1000 - 1s - loss: 0.0049 - accuracy: 1.0000 - val_loss: 0.4555 - val_accuracy: 0.8690\n",
      "Epoch 26/50\n",
      "1000/1000 - 1s - loss: 0.0045 - accuracy: 1.0000 - val_loss: 0.4538 - val_accuracy: 0.8700\n",
      "Epoch 27/50\n",
      "1000/1000 - 1s - loss: 0.0040 - accuracy: 1.0000 - val_loss: 0.4538 - val_accuracy: 0.8710\n",
      "Epoch 28/50\n",
      "1000/1000 - 1s - loss: 0.0042 - accuracy: 1.0000 - val_loss: 0.4522 - val_accuracy: 0.8740\n",
      "Epoch 29/50\n",
      "1000/1000 - 1s - loss: 0.0035 - accuracy: 1.0000 - val_loss: 0.4620 - val_accuracy: 0.8720\n",
      "Epoch 30/50\n",
      "\n",
      "Epoch 00030: saving model to training_2/cp-0030.ckpt\n",
      "1000/1000 - 1s - loss: 0.0036 - accuracy: 1.0000 - val_loss: 0.4557 - val_accuracy: 0.8720\n",
      "Epoch 31/50\n",
      "1000/1000 - 1s - loss: 0.0033 - accuracy: 1.0000 - val_loss: 0.4556 - val_accuracy: 0.8770\n",
      "Epoch 32/50\n",
      "1000/1000 - 1s - loss: 0.0030 - accuracy: 1.0000 - val_loss: 0.4780 - val_accuracy: 0.8710\n",
      "Epoch 33/50\n",
      "1000/1000 - 1s - loss: 0.0025 - accuracy: 1.0000 - val_loss: 0.4690 - val_accuracy: 0.8700\n",
      "Epoch 34/50\n",
      "1000/1000 - 1s - loss: 0.0025 - accuracy: 1.0000 - val_loss: 0.4672 - val_accuracy: 0.8700\n",
      "Epoch 35/50\n",
      "\n",
      "Epoch 00035: saving model to training_2/cp-0035.ckpt\n",
      "1000/1000 - 1s - loss: 0.0021 - accuracy: 1.0000 - val_loss: 0.4755 - val_accuracy: 0.8700\n",
      "Epoch 36/50\n",
      "1000/1000 - 1s - loss: 0.0021 - accuracy: 1.0000 - val_loss: 0.4782 - val_accuracy: 0.8740\n",
      "Epoch 37/50\n",
      "1000/1000 - 1s - loss: 0.0022 - accuracy: 1.0000 - val_loss: 0.4717 - val_accuracy: 0.8740\n",
      "Epoch 38/50\n",
      "1000/1000 - 1s - loss: 0.0021 - accuracy: 1.0000 - val_loss: 0.4730 - val_accuracy: 0.8730\n",
      "Epoch 39/50\n",
      "1000/1000 - 1s - loss: 0.0021 - accuracy: 1.0000 - val_loss: 0.4780 - val_accuracy: 0.8740\n",
      "Epoch 40/50\n",
      "\n",
      "Epoch 00040: saving model to training_2/cp-0040.ckpt\n",
      "1000/1000 - 1s - loss: 0.0019 - accuracy: 1.0000 - val_loss: 0.4781 - val_accuracy: 0.8720\n",
      "Epoch 41/50\n",
      "1000/1000 - 1s - loss: 0.0016 - accuracy: 1.0000 - val_loss: 0.4782 - val_accuracy: 0.8740\n",
      "Epoch 42/50\n",
      "1000/1000 - 1s - loss: 0.0017 - accuracy: 1.0000 - val_loss: 0.4737 - val_accuracy: 0.8770\n",
      "Epoch 43/50\n",
      "1000/1000 - 1s - loss: 0.0015 - accuracy: 1.0000 - val_loss: 0.4793 - val_accuracy: 0.8750\n",
      "Epoch 44/50\n",
      "1000/1000 - 1s - loss: 0.0014 - accuracy: 1.0000 - val_loss: 0.4799 - val_accuracy: 0.8740\n",
      "Epoch 45/50\n",
      "\n",
      "Epoch 00045: saving model to training_2/cp-0045.ckpt\n",
      "1000/1000 - 1s - loss: 0.0014 - accuracy: 1.0000 - val_loss: 0.4744 - val_accuracy: 0.8730\n",
      "Epoch 46/50\n",
      "1000/1000 - 1s - loss: 0.0015 - accuracy: 1.0000 - val_loss: 0.4869 - val_accuracy: 0.8720\n",
      "Epoch 47/50\n",
      "1000/1000 - 1s - loss: 0.0014 - accuracy: 1.0000 - val_loss: 0.4892 - val_accuracy: 0.8720\n",
      "Epoch 48/50\n",
      "1000/1000 - 1s - loss: 0.0011 - accuracy: 1.0000 - val_loss: 0.4903 - val_accuracy: 0.8730\n",
      "Epoch 49/50\n",
      "1000/1000 - 1s - loss: 0.0011 - accuracy: 1.0000 - val_loss: 0.4945 - val_accuracy: 0.8720\n",
      "Epoch 50/50\n",
      "\n",
      "Epoch 00050: saving model to training_2/cp-0050.ckpt\n",
      "1000/1000 - 1s - loss: 0.0010 - accuracy: 1.0000 - val_loss: 0.4942 - val_accuracy: 0.8730\n"
     ]
    },
    {
     "data": {
      "text/plain": [
       "<tensorflow.python.keras.callbacks.History at 0x1c76eddaf48>"
      ]
     },
     "execution_count": 8,
     "metadata": {},
     "output_type": "execute_result"
    }
   ],
   "source": [
    "# Create a new model instance\n",
    "model = create_model()\n",
    "\n",
    "# Save the weights using the `checkpoint_path` format\n",
    "model.save_weights(checkpoint_path.format(epoch=0))\n",
    "\n",
    "# Train the model with the new callback\n",
    "model.fit(train_images, \n",
    "          train_labels,\n",
    "          epochs=50, \n",
    "          callbacks=[cp_callback],\n",
    "          validation_data=(test_images,test_labels),\n",
    "          verbose=2)"
   ]
  },
  {
   "cell_type": "markdown",
   "metadata": {},
   "source": [
    "Then, we want to look at the list of resulting checkpoints and then check the lastest checkpoint and name it ‘latest’"
   ]
  },
  {
   "cell_type": "code",
   "execution_count": 9,
   "metadata": {},
   "outputs": [
    {
     "data": {
      "text/plain": [
       "'training_2\\\\cp-0050.ckpt'"
      ]
     },
     "execution_count": 9,
     "metadata": {},
     "output_type": "execute_result"
    }
   ],
   "source": [
    "latest = tf.train.latest_checkpoint(checkpoint_dir)\n",
    "latest"
   ]
  },
  {
   "cell_type": "markdown",
   "metadata": {},
   "source": [
    "### Recreate a model and reload the latest checkpoint"
   ]
  },
  {
   "cell_type": "code",
   "execution_count": 10,
   "metadata": {},
   "outputs": [
    {
     "name": "stdout",
     "output_type": "stream",
     "text": [
      "Restored model, accuracy: 87.30%\n"
     ]
    }
   ],
   "source": [
    "#Remove the model\n",
    "del model\n",
    "# Create a new model instance\n",
    "model = create_model()\n",
    "\n",
    "# Load the previously saved weights\n",
    "model.load_weights(latest)\n",
    "\n",
    "# Re-evaluate the model\n",
    "loss, acc = model.evaluate(test_images, test_labels, verbose=0)\n",
    "print(\"Restored model, accuracy: {:5.2f}%\".format(100*acc))"
   ]
  },
  {
   "cell_type": "code",
   "execution_count": null,
   "metadata": {},
   "outputs": [],
   "source": []
  }
 ],
 "metadata": {
  "kernelspec": {
   "display_name": "Python 3",
   "language": "python",
   "name": "python3"
  },
  "language_info": {
   "codemirror_mode": {
    "name": "ipython",
    "version": 3
   },
   "file_extension": ".py",
   "mimetype": "text/x-python",
   "name": "python",
   "nbconvert_exporter": "python",
   "pygments_lexer": "ipython3",
   "version": "3.7.6"
  }
 },
 "nbformat": 4,
 "nbformat_minor": 2
}
