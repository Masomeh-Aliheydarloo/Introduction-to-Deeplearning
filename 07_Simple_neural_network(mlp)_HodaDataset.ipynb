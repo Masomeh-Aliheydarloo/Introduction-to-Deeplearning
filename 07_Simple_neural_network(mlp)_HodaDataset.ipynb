{
  "nbformat": 4,
  "nbformat_minor": 0,
  "metadata": {
    "anaconda-cloud": {},
    "kernelspec": {
      "display_name": "Python 3",
      "language": "python",
      "name": "python3"
    },
    "language_info": {
      "codemirror_mode": {
        "name": "ipython",
        "version": 3
      },
      "file_extension": ".py",
      "mimetype": "text/x-python",
      "name": "python",
      "nbconvert_exporter": "python",
      "pygments_lexer": "ipython3",
      "version": "3.7.6"
    },
    "nbpresent": {
      "slides": {
        "300ee14f-a043-486e-b274-7ff253907cd7": {
          "id": "300ee14f-a043-486e-b274-7ff253907cd7",
          "prev": "cb74e0bc-4513-4d13-b7f1-14c3078a7927",
          "regions": {
            "26dc3f39-a230-447c-af4c-f5e5b2fb7835": {
              "attrs": {
                "height": 0.8,
                "width": 0.8,
                "x": 0.1,
                "y": 0.1
              },
              "content": {
                "cell": "c58440a5-3f8f-4f37-9c79-6bf766209406",
                "part": "whole"
              },
              "id": "26dc3f39-a230-447c-af4c-f5e5b2fb7835"
            }
          }
        },
        "878aa53a-1444-4100-8f50-7a408191c579": {
          "id": "878aa53a-1444-4100-8f50-7a408191c579",
          "prev": null,
          "regions": {
            "a6c6843a-5ea6-4fbc-b890-3b4b8ae475b3": {
              "attrs": {
                "height": 0.8,
                "width": 0.8,
                "x": 0.1,
                "y": 0.1
              },
              "content": {
                "cell": "588ee1fa-64b5-453b-ade7-8e6b2515821c",
                "part": "whole"
              },
              "id": "a6c6843a-5ea6-4fbc-b890-3b4b8ae475b3"
            }
          }
        },
        "96ffe88e-7b50-43de-afdd-942e564f4e3e": {
          "id": "96ffe88e-7b50-43de-afdd-942e564f4e3e",
          "prev": "878aa53a-1444-4100-8f50-7a408191c579",
          "regions": {
            "b7e52e12-489a-468d-b10c-af2024fd2856": {
              "attrs": {
                "height": 0.8,
                "width": 0.8,
                "x": 0.1,
                "y": 0.1
              },
              "content": {
                "cell": "de829a92-1fb6-44ad-a2c6-fc1001e1f6e1",
                "part": "whole"
              },
              "id": "b7e52e12-489a-468d-b10c-af2024fd2856"
            }
          }
        },
        "cb74e0bc-4513-4d13-b7f1-14c3078a7927": {
          "id": "cb74e0bc-4513-4d13-b7f1-14c3078a7927",
          "prev": "96ffe88e-7b50-43de-afdd-942e564f4e3e",
          "regions": {
            "444878ee-68f3-4abb-acff-a7079b21e86d": {
              "attrs": {
                "height": 0.8,
                "width": 0.8,
                "x": 0.1,
                "y": 0.1
              },
              "content": {
                "cell": "25f3f538-1ee8-4d98-a6bb-14cbeb7a702d",
                "part": "whole"
              },
              "id": "444878ee-68f3-4abb-acff-a7079b21e86d"
            }
          }
        }
      },
      "themes": {}
    },
    "colab": {
      "name": "04_a Gentle Introduction to Keras - Simple neural network(mlp).ipynb",
      "provenance": [],
      "collapsed_sections": []
    }
  },
  "cells": [
    {
      "cell_type": "markdown",
      "metadata": {
        "id": "HegYfh5SbfpE"
      },
      "source": [
        "<center><div style=\"direction:rtl;font-family:B Lotus, B Nazanin, Tahoma\">به نام خدا</div></center>\n",
        "\n",
        "<h1><center><div style=\"direction:rtl;font-family:B Lotus, B Nazanin, Tahoma\">مقدمه‌ای بر شبکه‌های عصبی و چارچوب Keras (کراس)</div></center></h1>"
      ]
    },
    {
      "cell_type": "markdown",
      "metadata": {
        "id": "FjfhaYJibfpG"
      },
      "source": [
        "## <div style=\"direction:rtl;text-align:right;font-family:B Lotus, B Nazanin, Tahoma\">لود کتابخانه‌های مورد استفاده</div>\n",
        "<div style=\"direction:rtl;text-align:right;font-family:Tahoma\">\n",
        "\n",
        "برای اجرای این نوت‌بوک نیاز به نصب کتابخانه کراس (Keras) دارید. برای نصب این کتابخانه میتوانید لینک زیر را مطالعه کنید.\n",
        "</div>\n",
        "\n",
        "[http://blog.class.vision/1396/12/installing-keras-with-tensorflow-backend/](http://blog.class.vision/1396/12/installing-keras-with-tensorflow-backend/)\n",
        "\n",
        "<div style=\"direction:rtl;text-align:right;font-family:Tahoma\">\n",
        "در صورتی که تمام کتابخانه‌های مورد نیاز شما نصب باشد سلول زیر باید بدون مشکل اجرا شود.\n",
        "\n",
        "</div>"
      ]
    },
    {
      "cell_type": "code",
      "metadata": {
        "id": "qynJ4ANEVCKO",
        "colab": {
          "base_uri": "https://localhost:8080/"
        },
        "outputId": "ff71e59d-2352-4cdd-db39-6d0c07bc098f"
      },
      "source": [
        "from google.colab import drive\n",
        "drive.mount('/content/drive/')"
      ],
      "execution_count": null,
      "outputs": [
        {
          "output_type": "stream",
          "text": [
            "Mounted at /content/drive/\n"
          ],
          "name": "stdout"
        }
      ]
    },
    {
      "cell_type": "code",
      "metadata": {
        "id": "QRK9ZiaiVGHJ",
        "colab": {
          "base_uri": "https://localhost:8080/"
        },
        "outputId": "392c3efb-64eb-4c10-9b2b-f21ab14de381"
      },
      "source": [
        "import os\n",
        "workbookDir = os.getcwd()\n",
        "path = \"/drive/My Drive/Colab Notebooks/DeepAkhavanFiles\"\n",
        "print('workbookDir: ' + workbookDir + path)\n",
        "os.chdir(workbookDir + path)  # If you changed the current working dir, this will take you back to the workbook dir.\n",
        "print('workbookDir: ' ,os.getcwd())"
      ],
      "execution_count": null,
      "outputs": [
        {
          "output_type": "stream",
          "text": [
            "workbookDir: /content/drive/My Drive/Colab Notebooks/DeepAkhavanFiles\n",
            "workbookDir:  /content/drive/My Drive/Colab Notebooks/DeepAkhavanFiles\n"
          ],
          "name": "stdout"
        }
      ]
    },
    {
      "cell_type": "code",
      "metadata": {
        "nbpresent": {
          "id": "de829a92-1fb6-44ad-a2c6-fc1001e1f6e1"
        },
        "id": "XhJRB72DbfpH"
      },
      "source": [
        "import keras\n",
        "from keras.models import Sequential\n",
        "from keras.layers import Dense,  Activation\n",
        "import numpy as np\n",
        "\n",
        "from dataset import load_hoda"
      ],
      "execution_count": null,
      "outputs": []
    },
    {
      "cell_type": "markdown",
      "metadata": {
        "id": "NRPhe_0ZbfpQ"
      },
      "source": [
        "<div style=\"direction:rtl;text-align:right;font-family:Tahoma\">\n",
        "برای اینکه موقع اجرای کدها دقیقا نتایج سر کلاس را بتوانید مشاهده کنید\n",
        ":\n",
        "</div>"
      ]
    },
    {
      "cell_type": "code",
      "metadata": {
        "id": "ij_6yZC6bfpR"
      },
      "source": [
        "np.random.seed(123)  # for reproducibility"
      ],
      "execution_count": null,
      "outputs": []
    },
    {
      "cell_type": "markdown",
      "metadata": {
        "id": "8gIg6dfTbfpW"
      },
      "source": [
        "## <div style=\"direction:rtl;text-align:right;font-family:B Lotus, B Nazanin, Tahoma\">لود مجموعه داده (dataset)</div>"
      ]
    },
    {
      "cell_type": "code",
      "metadata": {
        "id": "x2mN_B1KbfpX"
      },
      "source": [
        "x_train_original, y_train_original, x_test_original, y_test_original = load_hoda()\n"
      ],
      "execution_count": null,
      "outputs": []
    },
    {
      "cell_type": "code",
      "metadata": {
        "id": "VeHM22AQL2TF",
        "colab": {
          "base_uri": "https://localhost:8080/"
        },
        "outputId": "6c388100-bebe-4500-fb87-4e6031010a25"
      },
      "source": [
        "np.shape(x_train_original)  #make numpy and then shape"
      ],
      "execution_count": null,
      "outputs": [
        {
          "output_type": "execute_result",
          "data": {
            "text/plain": [
              "(1000, 25)"
            ]
          },
          "metadata": {
            "tags": []
          },
          "execution_count": 6
        }
      ]
    },
    {
      "cell_type": "code",
      "metadata": {
        "id": "RZR6HLqwMQPy",
        "colab": {
          "base_uri": "https://localhost:8080/"
        },
        "outputId": "2e014601-8434-4746-fa4d-54da939cfa11"
      },
      "source": [
        "np.shape(y_train_original)"
      ],
      "execution_count": null,
      "outputs": [
        {
          "output_type": "execute_result",
          "data": {
            "text/plain": [
              "(1000,)"
            ]
          },
          "metadata": {
            "tags": []
          },
          "execution_count": 7
        }
      ]
    },
    {
      "cell_type": "code",
      "metadata": {
        "id": "KkIInj13MYgj",
        "colab": {
          "base_uri": "https://localhost:8080/"
        },
        "outputId": "ee33352b-56e2-43d9-af76-95904cc8bf60"
      },
      "source": [
        "np.shape(y_test_original)"
      ],
      "execution_count": null,
      "outputs": [
        {
          "output_type": "execute_result",
          "data": {
            "text/plain": [
              "(200,)"
            ]
          },
          "metadata": {
            "tags": []
          },
          "execution_count": 8
        }
      ]
    },
    {
      "cell_type": "code",
      "metadata": {
        "id": "LXb5WIErMYoA",
        "colab": {
          "base_uri": "https://localhost:8080/"
        },
        "outputId": "6dfb151f-eb1d-4d34-c54e-6ddbd4c74f75"
      },
      "source": [
        "np.shape(x_test_original)"
      ],
      "execution_count": null,
      "outputs": [
        {
          "output_type": "execute_result",
          "data": {
            "text/plain": [
              "(200, 25)"
            ]
          },
          "metadata": {
            "tags": []
          },
          "execution_count": 9
        }
      ]
    },
    {
      "cell_type": "markdown",
      "metadata": {
        "id": "H4sBtmbVbfpb"
      },
      "source": [
        "## <div style=\"direction:rtl;text-align:right;font-family:B Lotus, B Nazanin, Tahoma\"> پیش‌پردازش داده‌ها برای Keras</div>\n",
        "<div style=\"direction:rtl;text-align:right;font-family:Tahoma\">\n",
        "تبدیل\n",
        "x_train و x_test\n",
        "به فرمت آرایه‌های نامپای یا ndarray و تبدیل \n",
        "y_train و y_test\n",
        "به \n",
        "one-hot-encoding\n",
        ":\n",
        "</div>\n"
      ]
    },
    {
      "cell_type": "markdown",
      "metadata": {
        "id": "8dd5hEHJbfpc"
      },
      "source": [
        "<div style=\"direction:rtl;text-align:right;font-family:Tahoma\">\n",
        "ابتدا تابعی ساده تعریف کردهایم که ابعاد، نوع داده ای و اطلاعات دیتاست لود شده را چاپ کند.\n",
        "<br>\n",
        "این اطلاعات را قبل و بعد از پیش‌پردازش داده ها چاپ خواهیم کرد تا متوجه تغییرات بشویم!\n",
        "</div>"
      ]
    },
    {
      "cell_type": "code",
      "metadata": {
        "id": "q7Kl6koibfpd"
      },
      "source": [
        "def print_data_info(x_train, y_train, x_test, y_test):\n",
        "    #Check data Type\n",
        "    print (\"\\ttype(x_train): {}\".format(type(x_train)))\n",
        "    print (\"\\ttype(y_train): {}\".format(type(y_train)))\n",
        "\n",
        "    #check data Shape\n",
        "    print (\"\\tx_train.shape: {}\".format(np.shape(x_train)))\n",
        "    print (\"\\ty_train.shape: {}\".format(np.shape(y_train)))\n",
        "    print (\"\\tx_test.shape: {}\".format(np.shape(x_test)))\n",
        "    print (\"\\ty_test.shape: {}\".format(np.shape(y_test)))\n",
        "\n",
        "    #sample data\n",
        "    print (\"\\ty_train[0]: {}\".format(y_train[0]))"
      ],
      "execution_count": null,
      "outputs": []
    },
    {
      "cell_type": "code",
      "metadata": {
        "id": "SwWv9E4mbfpi"
      },
      "source": [
        "# Preprocess input data for Keras. \n",
        "x_train = np.array(x_train_original)   #change to numpy\n",
        "y_train = keras.utils.to_categorical(y_train_original, num_classes=10) #change one hot encoder\n",
        "x_test = np.array(x_test_original)\n",
        "y_test = keras.utils.to_categorical(y_test_original, num_classes=10)"
      ],
      "execution_count": null,
      "outputs": []
    },
    {
      "cell_type": "code",
      "metadata": {
        "id": "GKFQ29X2bfpn",
        "colab": {
          "base_uri": "https://localhost:8080/",
          "height": 286
        },
        "outputId": "aecabde6-7360-4460-d920-90b3f88e9ae2"
      },
      "source": [
        "print(\"Before Preprocessing:\")\n",
        "print_data_info(x_train_original, y_train_original, x_test_original, y_test_original)\n",
        "print(\"After Preprocessing:\")\n",
        "print_data_info(x_train, y_train, x_test, y_test)"
      ],
      "execution_count": null,
      "outputs": [
        {
          "output_type": "stream",
          "text": [
            "Before Preprocessing:\n",
            "\ttype(x_train): <class 'list'>\n",
            "\ttype(y_train): <class 'numpy.ndarray'>\n",
            "\tx_train.shape: (1000, 25)\n",
            "\ty_train.shape: (1000,)\n",
            "\tx_test.shape: (200, 25)\n",
            "\ty_test.shape: (200,)\n",
            "\ty_train[0]: 6\n",
            "After Preprocessing:\n",
            "\ttype(x_train): <class 'numpy.ndarray'>\n",
            "\ttype(y_train): <class 'numpy.ndarray'>\n",
            "\tx_train.shape: (1000, 25)\n",
            "\ty_train.shape: (1000, 10)\n",
            "\tx_test.shape: (200, 25)\n",
            "\ty_test.shape: (200, 10)\n",
            "\ty_train[0]: [0. 0. 0. 0. 0. 0. 1. 0. 0. 0.]\n"
          ],
          "name": "stdout"
        }
      ]
    },
    {
      "cell_type": "markdown",
      "metadata": {
        "id": "LQisoLNFbfps"
      },
      "source": [
        "<div style=\"direction:rtl;text-align:right;font-family:Tahoma\">\n",
        "آخرین گام پیش‌پردازش تبدیل داده‌ها به \n",
        "**float32**\n",
        "و نرمال سازی مقادیر به مقدار بین 0 و 1 است.\n",
        "</div>"
      ]
    },
    {
      "cell_type": "code",
      "metadata": {
        "id": "Pk3ftjfabfpt"
      },
      "source": [
        "x_train = x_train.astype('float32') #keras needs float32\n",
        "x_test = x_test.astype('float32')\n",
        "x_train /= 255   #normalization between 0,1\n",
        "x_test /= 255"
      ],
      "execution_count": null,
      "outputs": []
    },
    {
      "cell_type": "markdown",
      "metadata": {
        "id": "E98J3kypbfpx"
      },
      "source": [
        "## <div style=\"direction:rtl;text-align:right;font-family:B Lotus, B Nazanin, Tahoma\">تعریف معماری مدل (model architecture)</div>"
      ]
    },
    {
      "cell_type": "code",
      "metadata": {
        "id": "sOLwV9_jbfpx"
      },
      "source": [
        "model = Sequential()\n",
        "model.add(Dense(64, activation='relu', input_dim=25)) # size image 5*5 , Dense:full connection\n",
        "model.add(Dense(10, activation='softmax'))"
      ],
      "execution_count": null,
      "outputs": []
    },
    {
      "cell_type": "code",
      "metadata": {
        "id": "zHQIzqiVbfp1",
        "colab": {
          "base_uri": "https://localhost:8080/"
        },
        "outputId": "375a0261-0576-44ac-dc5c-2949ece95249"
      },
      "source": [
        "model.summary()"
      ],
      "execution_count": null,
      "outputs": [
        {
          "output_type": "stream",
          "text": [
            "Model: \"sequential_1\"\n",
            "_________________________________________________________________\n",
            "Layer (type)                 Output Shape              Param #   \n",
            "=================================================================\n",
            "dense_2 (Dense)              (None, 64)                1664      \n",
            "_________________________________________________________________\n",
            "dense_3 (Dense)              (None, 10)                650       \n",
            "=================================================================\n",
            "Total params: 2,314\n",
            "Trainable params: 2,314\n",
            "Non-trainable params: 0\n",
            "_________________________________________________________________\n"
          ],
          "name": "stdout"
        }
      ]
    },
    {
      "cell_type": "code",
      "metadata": {
        "id": "WbYOoi5WOBZF",
        "colab": {
          "base_uri": "https://localhost:8080/",
          "height": 34
        },
        "outputId": "f0d72d0c-5faa-48b9-8379-c4f363df3514"
      },
      "source": [
        "model.input   #none:count f batch_size is not clear now"
      ],
      "execution_count": null,
      "outputs": [
        {
          "output_type": "execute_result",
          "data": {
            "text/plain": [
              "<tf.Tensor 'dense_input:0' shape=(None, 25) dtype=float32>"
            ]
          },
          "metadata": {
            "tags": []
          },
          "execution_count": 19
        }
      ]
    },
    {
      "cell_type": "markdown",
      "metadata": {
        "id": "m3lJ7UqDbfp6"
      },
      "source": [
        "## <div style=\"direction:rtl;text-align:right;font-family:B Lotus, B Nazanin, Tahoma\">Compile model</div>\n"
      ]
    },
    {
      "cell_type": "code",
      "metadata": {
        "id": "8G48OEwkbfp7"
      },
      "source": [
        "model.compile(loss='categorical_crossentropy',\n",
        "              optimizer='rmsprop',\n",
        "              metrics=['accuracy'])"
      ],
      "execution_count": null,
      "outputs": []
    },
    {
      "cell_type": "markdown",
      "metadata": {
        "id": "L_cCcDynbfp_"
      },
      "source": [
        "## <div style=\"direction:rtl;text-align:right;font-family:B Lotus, B Nazanin, Tahoma\">آموش مدل با داده‌های آموزشی</div>\n"
      ]
    },
    {
      "cell_type": "code",
      "metadata": {
        "id": "eSLtfDMGbfqA"
      },
      "source": [
        "model.fit(x_train, y_train,\n",
        "          epochs=30,\n",
        "          batch_size=64, validation_split=0.2)    "
      ],
      "execution_count": null,
      "outputs": []
    },
    {
      "cell_type": "markdown",
      "metadata": {
        "id": "Ijc3VpfebfqE"
      },
      "source": [
        "## <div style=\"direction:rtl;text-align:right;font-family:B Lotus, B Nazanin, Tahoma\">ارزیابی مدل روی داده های آزمون</div>"
      ]
    },
    {
      "cell_type": "code",
      "metadata": {
        "id": "Pzxc-NnQ_FEQ",
        "colab": {
          "base_uri": "https://localhost:8080/",
          "height": 979
        },
        "outputId": "2d7809d7-8614-44c8-9251-8f4f71240a89"
      },
      "source": [
        "import pandas as pd\n",
        "\n",
        "pd.DataFrame(model.history.history)"
      ],
      "execution_count": null,
      "outputs": [
        {
          "output_type": "execute_result",
          "data": {
            "text/html": [
              "<div>\n",
              "<style scoped>\n",
              "    .dataframe tbody tr th:only-of-type {\n",
              "        vertical-align: middle;\n",
              "    }\n",
              "\n",
              "    .dataframe tbody tr th {\n",
              "        vertical-align: top;\n",
              "    }\n",
              "\n",
              "    .dataframe thead th {\n",
              "        text-align: right;\n",
              "    }\n",
              "</style>\n",
              "<table border=\"1\" class=\"dataframe\">\n",
              "  <thead>\n",
              "    <tr style=\"text-align: right;\">\n",
              "      <th></th>\n",
              "      <th>loss</th>\n",
              "      <th>accuracy</th>\n",
              "      <th>val_loss</th>\n",
              "      <th>val_accuracy</th>\n",
              "    </tr>\n",
              "  </thead>\n",
              "  <tbody>\n",
              "    <tr>\n",
              "      <th>0</th>\n",
              "      <td>2.245861</td>\n",
              "      <td>0.17875</td>\n",
              "      <td>2.095683</td>\n",
              "      <td>0.275</td>\n",
              "    </tr>\n",
              "    <tr>\n",
              "      <th>1</th>\n",
              "      <td>2.049403</td>\n",
              "      <td>0.34750</td>\n",
              "      <td>1.919683</td>\n",
              "      <td>0.500</td>\n",
              "    </tr>\n",
              "    <tr>\n",
              "      <th>2</th>\n",
              "      <td>1.889064</td>\n",
              "      <td>0.48500</td>\n",
              "      <td>1.761950</td>\n",
              "      <td>0.640</td>\n",
              "    </tr>\n",
              "    <tr>\n",
              "      <th>3</th>\n",
              "      <td>1.733812</td>\n",
              "      <td>0.62250</td>\n",
              "      <td>1.602583</td>\n",
              "      <td>0.710</td>\n",
              "    </tr>\n",
              "    <tr>\n",
              "      <th>4</th>\n",
              "      <td>1.580697</td>\n",
              "      <td>0.69375</td>\n",
              "      <td>1.456619</td>\n",
              "      <td>0.740</td>\n",
              "    </tr>\n",
              "    <tr>\n",
              "      <th>5</th>\n",
              "      <td>1.437973</td>\n",
              "      <td>0.72375</td>\n",
              "      <td>1.320128</td>\n",
              "      <td>0.745</td>\n",
              "    </tr>\n",
              "    <tr>\n",
              "      <th>6</th>\n",
              "      <td>1.302645</td>\n",
              "      <td>0.76750</td>\n",
              "      <td>1.192866</td>\n",
              "      <td>0.760</td>\n",
              "    </tr>\n",
              "    <tr>\n",
              "      <th>7</th>\n",
              "      <td>1.179824</td>\n",
              "      <td>0.77875</td>\n",
              "      <td>1.085872</td>\n",
              "      <td>0.805</td>\n",
              "    </tr>\n",
              "    <tr>\n",
              "      <th>8</th>\n",
              "      <td>1.068815</td>\n",
              "      <td>0.80250</td>\n",
              "      <td>0.985710</td>\n",
              "      <td>0.800</td>\n",
              "    </tr>\n",
              "    <tr>\n",
              "      <th>9</th>\n",
              "      <td>0.970371</td>\n",
              "      <td>0.81500</td>\n",
              "      <td>0.900971</td>\n",
              "      <td>0.815</td>\n",
              "    </tr>\n",
              "    <tr>\n",
              "      <th>10</th>\n",
              "      <td>0.883422</td>\n",
              "      <td>0.82625</td>\n",
              "      <td>0.825859</td>\n",
              "      <td>0.830</td>\n",
              "    </tr>\n",
              "    <tr>\n",
              "      <th>11</th>\n",
              "      <td>0.808763</td>\n",
              "      <td>0.83750</td>\n",
              "      <td>0.761913</td>\n",
              "      <td>0.845</td>\n",
              "    </tr>\n",
              "    <tr>\n",
              "      <th>12</th>\n",
              "      <td>0.743510</td>\n",
              "      <td>0.85000</td>\n",
              "      <td>0.707460</td>\n",
              "      <td>0.840</td>\n",
              "    </tr>\n",
              "    <tr>\n",
              "      <th>13</th>\n",
              "      <td>0.688503</td>\n",
              "      <td>0.85125</td>\n",
              "      <td>0.659802</td>\n",
              "      <td>0.850</td>\n",
              "    </tr>\n",
              "    <tr>\n",
              "      <th>14</th>\n",
              "      <td>0.638735</td>\n",
              "      <td>0.85375</td>\n",
              "      <td>0.620823</td>\n",
              "      <td>0.855</td>\n",
              "    </tr>\n",
              "    <tr>\n",
              "      <th>15</th>\n",
              "      <td>0.598477</td>\n",
              "      <td>0.86500</td>\n",
              "      <td>0.589871</td>\n",
              "      <td>0.860</td>\n",
              "    </tr>\n",
              "    <tr>\n",
              "      <th>16</th>\n",
              "      <td>0.562948</td>\n",
              "      <td>0.86875</td>\n",
              "      <td>0.559868</td>\n",
              "      <td>0.860</td>\n",
              "    </tr>\n",
              "    <tr>\n",
              "      <th>17</th>\n",
              "      <td>0.532024</td>\n",
              "      <td>0.86625</td>\n",
              "      <td>0.535253</td>\n",
              "      <td>0.865</td>\n",
              "    </tr>\n",
              "    <tr>\n",
              "      <th>18</th>\n",
              "      <td>0.505250</td>\n",
              "      <td>0.87250</td>\n",
              "      <td>0.510402</td>\n",
              "      <td>0.870</td>\n",
              "    </tr>\n",
              "    <tr>\n",
              "      <th>19</th>\n",
              "      <td>0.481166</td>\n",
              "      <td>0.88125</td>\n",
              "      <td>0.492120</td>\n",
              "      <td>0.870</td>\n",
              "    </tr>\n",
              "    <tr>\n",
              "      <th>20</th>\n",
              "      <td>0.460336</td>\n",
              "      <td>0.88000</td>\n",
              "      <td>0.475998</td>\n",
              "      <td>0.870</td>\n",
              "    </tr>\n",
              "    <tr>\n",
              "      <th>21</th>\n",
              "      <td>0.439787</td>\n",
              "      <td>0.88500</td>\n",
              "      <td>0.462473</td>\n",
              "      <td>0.875</td>\n",
              "    </tr>\n",
              "    <tr>\n",
              "      <th>22</th>\n",
              "      <td>0.423476</td>\n",
              "      <td>0.89000</td>\n",
              "      <td>0.448804</td>\n",
              "      <td>0.880</td>\n",
              "    </tr>\n",
              "    <tr>\n",
              "      <th>23</th>\n",
              "      <td>0.408115</td>\n",
              "      <td>0.89125</td>\n",
              "      <td>0.438855</td>\n",
              "      <td>0.880</td>\n",
              "    </tr>\n",
              "    <tr>\n",
              "      <th>24</th>\n",
              "      <td>0.394182</td>\n",
              "      <td>0.89000</td>\n",
              "      <td>0.426516</td>\n",
              "      <td>0.880</td>\n",
              "    </tr>\n",
              "    <tr>\n",
              "      <th>25</th>\n",
              "      <td>0.382631</td>\n",
              "      <td>0.89375</td>\n",
              "      <td>0.420155</td>\n",
              "      <td>0.885</td>\n",
              "    </tr>\n",
              "    <tr>\n",
              "      <th>26</th>\n",
              "      <td>0.370463</td>\n",
              "      <td>0.89250</td>\n",
              "      <td>0.414793</td>\n",
              "      <td>0.885</td>\n",
              "    </tr>\n",
              "    <tr>\n",
              "      <th>27</th>\n",
              "      <td>0.360473</td>\n",
              "      <td>0.89875</td>\n",
              "      <td>0.406148</td>\n",
              "      <td>0.885</td>\n",
              "    </tr>\n",
              "    <tr>\n",
              "      <th>28</th>\n",
              "      <td>0.351452</td>\n",
              "      <td>0.89625</td>\n",
              "      <td>0.399055</td>\n",
              "      <td>0.875</td>\n",
              "    </tr>\n",
              "    <tr>\n",
              "      <th>29</th>\n",
              "      <td>0.342876</td>\n",
              "      <td>0.90000</td>\n",
              "      <td>0.391880</td>\n",
              "      <td>0.885</td>\n",
              "    </tr>\n",
              "  </tbody>\n",
              "</table>\n",
              "</div>"
            ],
            "text/plain": [
              "        loss  accuracy  val_loss  val_accuracy\n",
              "0   2.245861   0.17875  2.095683         0.275\n",
              "1   2.049403   0.34750  1.919683         0.500\n",
              "2   1.889064   0.48500  1.761950         0.640\n",
              "3   1.733812   0.62250  1.602583         0.710\n",
              "4   1.580697   0.69375  1.456619         0.740\n",
              "5   1.437973   0.72375  1.320128         0.745\n",
              "6   1.302645   0.76750  1.192866         0.760\n",
              "7   1.179824   0.77875  1.085872         0.805\n",
              "8   1.068815   0.80250  0.985710         0.800\n",
              "9   0.970371   0.81500  0.900971         0.815\n",
              "10  0.883422   0.82625  0.825859         0.830\n",
              "11  0.808763   0.83750  0.761913         0.845\n",
              "12  0.743510   0.85000  0.707460         0.840\n",
              "13  0.688503   0.85125  0.659802         0.850\n",
              "14  0.638735   0.85375  0.620823         0.855\n",
              "15  0.598477   0.86500  0.589871         0.860\n",
              "16  0.562948   0.86875  0.559868         0.860\n",
              "17  0.532024   0.86625  0.535253         0.865\n",
              "18  0.505250   0.87250  0.510402         0.870\n",
              "19  0.481166   0.88125  0.492120         0.870\n",
              "20  0.460336   0.88000  0.475998         0.870\n",
              "21  0.439787   0.88500  0.462473         0.875\n",
              "22  0.423476   0.89000  0.448804         0.880\n",
              "23  0.408115   0.89125  0.438855         0.880\n",
              "24  0.394182   0.89000  0.426516         0.880\n",
              "25  0.382631   0.89375  0.420155         0.885\n",
              "26  0.370463   0.89250  0.414793         0.885\n",
              "27  0.360473   0.89875  0.406148         0.885\n",
              "28  0.351452   0.89625  0.399055         0.875\n",
              "29  0.342876   0.90000  0.391880         0.885"
            ]
          },
          "metadata": {
            "tags": []
          },
          "execution_count": 19
        }
      ]
    },
    {
      "cell_type": "code",
      "metadata": {
        "id": "F75TP1P5ANcG",
        "colab": {
          "base_uri": "https://localhost:8080/",
          "height": 282
        },
        "outputId": "28057f3c-ba76-4380-8fd2-4b9688fc1961"
      },
      "source": [
        "#plot the loss\n",
        "loss_df=pd.DataFrame(model.history.history)\n",
        "loss_df.plot()"
      ],
      "execution_count": null,
      "outputs": [
        {
          "output_type": "execute_result",
          "data": {
            "text/plain": [
              "<matplotlib.axes._subplots.AxesSubplot at 0x7f2d922ab4e0>"
            ]
          },
          "metadata": {
            "tags": []
          },
          "execution_count": 20
        },
        {
          "output_type": "display_data",
          "data": {
            "image/png": "[encoded data removed]",
            "text/plain": [
              "<Figure size 432x288 with 1 Axes>"
            ]
          },
          "metadata": {
            "tags": [],
            "needs_background": "light"
          }
        }
      ]
    },
    {
      "cell_type": "code",
      "metadata": {
        "id": "I1XStfjgbfqF",
        "colab": {
          "base_uri": "https://localhost:8080/",
          "height": 51
        },
        "outputId": "f2644d25-883f-4aa2-d271-113e9e7ba837"
      },
      "source": [
        "loss, acc = model.evaluate(x_test, y_test,verbose=0)\n",
        "print('\\nTesting loss: %.2f, acc: %.2f%%'%(loss, acc))"
      ],
      "execution_count": null,
      "outputs": [
        {
          "output_type": "stream",
          "text": [
            "\n",
            "Testing loss: 0.36, acc: 0.90%\n"
          ],
          "name": "stdout"
        }
      ]
    },
    {
      "cell_type": "code",
      "metadata": {
        "id": "W_b80RRFB5pq",
        "colab": {
          "base_uri": "https://localhost:8080/",
          "height": 68
        },
        "outputId": "487ebe32-f1ad-42f5-da7f-eb9ccdc82af5"
      },
      "source": [
        "loss, acc = model.evaluate(x_train, y_train)\n",
        "print('\\nTraining loss: %.2f, acc: %.2f%%'%(loss, acc))"
      ],
      "execution_count": null,
      "outputs": [
        {
          "output_type": "stream",
          "text": [
            "32/32 [==============================] - 0s 1ms/step - loss: 0.3443 - accuracy: 0.9030\n",
            "\n",
            "Training loss: 0.34, acc: 0.90%\n"
          ],
          "name": "stdout"
        }
      ]
    },
    {
      "cell_type": "markdown",
      "metadata": {
        "id": "JySyZe5ZbfqK"
      },
      "source": [
        "## <div style=\"direction:rtl;text-align:right;font-family:B Lotus, B Nazanin, Tahoma\">پیش‌بینی داده‌های آموزشی</div>\n"
      ]
    },
    {
      "cell_type": "code",
      "metadata": {
        "id": "WH6sQ8PObfqK",
        "colab": {
          "base_uri": "https://localhost:8080/",
          "height": 326
        },
        "outputId": "e0c7449b-5d40-48dd-c2fc-39eb0c104194"
      },
      "source": [
        "# The predict_classes function outputs the highest probability class\n",
        "# according to the trained classifier for each input example.\n",
        "predicted_classes = model.predict_classes(x_test)\n",
        "print(\"predicted:\")\n",
        "print(predicted_classes)\n",
        "print(\"True Label:\")\n",
        "print(y_test_original)"
      ],
      "execution_count": null,
      "outputs": [
        {
          "output_type": "stream",
          "text": [
            "WARNING:tensorflow:From <ipython-input-38-b2b3cb9a9560>:3: Sequential.predict_classes (from tensorflow.python.keras.engine.sequential) is deprecated and will be removed after 2021-01-01.\n",
            "Instructions for updating:\n",
            "Please use instead:* `np.argmax(model.predict(x), axis=-1)`,   if your model does multi-class classification   (e.g. if it uses a `softmax` last-layer activation).* `(model.predict(x) > 0.5).astype(\"int32\")`,   if your model does binary classification   (e.g. if it uses a `sigmoid` last-layer activation).\n",
            "predicted:\n",
            "[7 2 3 8 5 5 4 7 3 2 0 8 8 0 2 9 3 6 7 4 0 3 6 3 9 2 7 5 2 9 2 5 5 8 9 2 5\n",
            " 9 4 8 8 4 2 2 1 2 7 9 0 3 7 2 7 5 7 9 8 2 9 8 8 6 6 6 7 6 2 4 2 4 1 5 9 1\n",
            " 8 4 0 5 6 2 4 3 2 7 7 7 7 0 8 1 7 8 7 7 8 9 3 2 3 1 0 2 9 6 3 5 5 0 0 9 6\n",
            " 7 9 3 9 9 8 7 9 2 5 2 5 5 9 6 9 2 0 3 7 9 5 2 9 0 4 1 8 2 2 3 5 2 9 3 8 2\n",
            " 7 0 9 9 0 7 6 2 4 7 9 3 7 0 7 1 9 4 7 3 4 1 5 6 7 9 1 3 5 3 5 7 4 1 3 3 1\n",
            " 1 3 3 8 9 6 7 7 2 3 0 1 4 9 5]\n",
            "True Label:\n",
            "[7 2 3 1 5 5 4 7 3 2 0 8 8 0 2 9 3 6 7 4 0 3 6 3 9 2 7 5 2 9 7 5 5 8 9 6 5\n",
            " 1 4 8 8 4 7 7 1 2 7 9 0 3 7 4 7 5 2 9 8 2 9 8 8 6 6 6 6 6 2 4 3 4 4 5 9 1\n",
            " 8 2 0 5 6 2 4 3 2 7 7 7 7 1 8 1 7 8 7 7 8 9 3 2 3 1 0 2 9 6 3 5 5 0 0 3 6\n",
            " 7 9 3 9 9 8 7 9 2 5 2 5 5 9 6 9 2 0 3 7 6 5 2 9 0 4 1 8 2 2 3 0 2 9 3 8 6\n",
            " 7 0 9 9 0 7 6 5 4 7 9 3 7 0 7 1 9 4 7 3 4 1 5 6 7 9 1 3 5 4 5 7 4 1 3 3 1\n",
            " 2 3 3 8 9 6 7 7 2 3 0 1 4 9 5]\n"
          ],
          "name": "stdout"
        }
      ]
    },
    {
      "cell_type": "code",
      "metadata": {
        "id": "kJIgOX4NF1lX",
        "colab": {
          "base_uri": "https://localhost:8080/",
          "height": 238
        },
        "outputId": "38c1740d-3888-499d-c58e-90dbc99b57ed"
      },
      "source": [
        "test_predictions=model.predict(x_test)\n",
        "test_predictions"
      ],
      "execution_count": null,
      "outputs": [
        {
          "output_type": "execute_result",
          "data": {
            "text/plain": [
              "array([[4.41397959e-03, 1.10788736e-03, 2.99208169e-03, ...,\n",
              "        9.74595547e-01, 1.32754903e-05, 5.40197128e-04],\n",
              "       [1.84744145e-04, 9.60488280e-04, 5.88335097e-01, ...,\n",
              "        6.61914237e-03, 1.38032861e-04, 9.16646386e-05],\n",
              "       [1.48492400e-03, 8.18574161e-04, 1.89404249e-01, ...,\n",
              "        2.43991390e-02, 2.37093016e-04, 2.10498064e-03],\n",
              "       ...,\n",
              "       [2.84075260e-01, 3.93579565e-02, 1.05643049e-02, ...,\n",
              "        6.72146901e-02, 6.01083832e-03, 8.20599273e-02],\n",
              "       [1.06787782e-04, 7.53708463e-03, 1.93503656e-04, ...,\n",
              "        1.19968936e-04, 1.19943183e-03, 9.24253285e-01],\n",
              "       [8.69362208e-04, 3.61622115e-05, 2.11749284e-06, ...,\n",
              "        5.83028523e-05, 9.73353104e-04, 4.66572747e-05]], dtype=float32)"
            ]
          },
          "metadata": {
            "tags": []
          },
          "execution_count": 36
        }
      ]
    },
    {
      "cell_type": "code",
      "metadata": {
        "id": "5eaLcOgqDIzi",
        "colab": {
          "base_uri": "https://localhost:8080/",
          "height": 221
        },
        "outputId": "f172933c-088d-445e-eb11-d013ff9ec86a"
      },
      "source": [
        "predicted_classes1 =pd.Series(predicted_classes .reshape(200,))\n",
        "predicted_classes1"
      ],
      "execution_count": null,
      "outputs": [
        {
          "output_type": "execute_result",
          "data": {
            "text/plain": [
              "0      7\n",
              "1      2\n",
              "2      3\n",
              "3      8\n",
              "4      5\n",
              "      ..\n",
              "195    0\n",
              "196    1\n",
              "197    4\n",
              "198    9\n",
              "199    5\n",
              "Length: 200, dtype: int64"
            ]
          },
          "metadata": {
            "tags": []
          },
          "execution_count": 40
        }
      ]
    },
    {
      "cell_type": "code",
      "metadata": {
        "id": "nbaFJChcELGS",
        "colab": {
          "base_uri": "https://localhost:8080/",
          "height": 419
        },
        "outputId": "4f607ce7-a8c4-4db5-a8c5-ca3d2faa1869"
      },
      "source": [
        "pred_df=pd.DataFrame(y_test_original)\n",
        "pred_df=pd.concat([pred_df,predicted_classes1],axis=1)\n",
        "pred_df.columns=['Test True Y','Model Predictions']\n",
        "pred_df"
      ],
      "execution_count": null,
      "outputs": [
        {
          "output_type": "execute_result",
          "data": {
            "text/html": [
              "<div>\n",
              "<style scoped>\n",
              "    .dataframe tbody tr th:only-of-type {\n",
              "        vertical-align: middle;\n",
              "    }\n",
              "\n",
              "    .dataframe tbody tr th {\n",
              "        vertical-align: top;\n",
              "    }\n",
              "\n",
              "    .dataframe thead th {\n",
              "        text-align: right;\n",
              "    }\n",
              "</style>\n",
              "<table border=\"1\" class=\"dataframe\">\n",
              "  <thead>\n",
              "    <tr style=\"text-align: right;\">\n",
              "      <th></th>\n",
              "      <th>Test True Y</th>\n",
              "      <th>Model Predictions</th>\n",
              "    </tr>\n",
              "  </thead>\n",
              "  <tbody>\n",
              "    <tr>\n",
              "      <th>0</th>\n",
              "      <td>7</td>\n",
              "      <td>7</td>\n",
              "    </tr>\n",
              "    <tr>\n",
              "      <th>1</th>\n",
              "      <td>2</td>\n",
              "      <td>2</td>\n",
              "    </tr>\n",
              "    <tr>\n",
              "      <th>2</th>\n",
              "      <td>3</td>\n",
              "      <td>3</td>\n",
              "    </tr>\n",
              "    <tr>\n",
              "      <th>3</th>\n",
              "      <td>1</td>\n",
              "      <td>8</td>\n",
              "    </tr>\n",
              "    <tr>\n",
              "      <th>4</th>\n",
              "      <td>5</td>\n",
              "      <td>5</td>\n",
              "    </tr>\n",
              "    <tr>\n",
              "      <th>...</th>\n",
              "      <td>...</td>\n",
              "      <td>...</td>\n",
              "    </tr>\n",
              "    <tr>\n",
              "      <th>195</th>\n",
              "      <td>0</td>\n",
              "      <td>0</td>\n",
              "    </tr>\n",
              "    <tr>\n",
              "      <th>196</th>\n",
              "      <td>1</td>\n",
              "      <td>1</td>\n",
              "    </tr>\n",
              "    <tr>\n",
              "      <th>197</th>\n",
              "      <td>4</td>\n",
              "      <td>4</td>\n",
              "    </tr>\n",
              "    <tr>\n",
              "      <th>198</th>\n",
              "      <td>9</td>\n",
              "      <td>9</td>\n",
              "    </tr>\n",
              "    <tr>\n",
              "      <th>199</th>\n",
              "      <td>5</td>\n",
              "      <td>5</td>\n",
              "    </tr>\n",
              "  </tbody>\n",
              "</table>\n",
              "<p>200 rows × 2 columns</p>\n",
              "</div>"
            ],
            "text/plain": [
              "     Test True Y  Model Predictions\n",
              "0              7                  7\n",
              "1              2                  2\n",
              "2              3                  3\n",
              "3              1                  8\n",
              "4              5                  5\n",
              "..           ...                ...\n",
              "195            0                  0\n",
              "196            1                  1\n",
              "197            4                  4\n",
              "198            9                  9\n",
              "199            5                  5\n",
              "\n",
              "[200 rows x 2 columns]"
            ]
          },
          "metadata": {
            "tags": []
          },
          "execution_count": 41
        }
      ]
    },
    {
      "cell_type": "code",
      "metadata": {
        "id": "WhzidWzWG9oB",
        "colab": {
          "base_uri": "https://localhost:8080/",
          "height": 282
        },
        "outputId": "d51fe3b4-7673-4e23-cecb-428ce038e016"
      },
      "source": [
        "import seaborn as sns\n",
        "sns.scatterplot(data=pred_df)"
      ],
      "execution_count": null,
      "outputs": [
        {
          "output_type": "execute_result",
          "data": {
            "text/plain": [
              "<matplotlib.axes._subplots.AxesSubplot at 0x7f6602013e80>"
            ]
          },
          "metadata": {
            "tags": []
          },
          "execution_count": 48
        },
        {
          "output_type": "display_data",
          "data": {
            "image/png": "[encoded data removed]",
            "text/plain": [
              "<Figure size 432x288 with 1 Axes>"
            ]
          },
          "metadata": {
            "tags": [],
            "needs_background": "light"
          }
        }
      ]
    },
    {
      "cell_type": "markdown",
      "metadata": {
        "id": "WFeb8rqGbfqO"
      },
      "source": [
        "## <div style=\"direction:rtl;text-align:right;font-family:B Lotus, B Nazanin, Tahoma\">کد کامل، از ابتدا تا انتها</div>\n",
        "\n"
      ]
    },
    {
      "cell_type": "code",
      "metadata": {
        "id": "tGhi0gT-bfqP"
      },
      "source": [
        "# 1. Import libraries and modules\n",
        "import keras\n",
        "from keras.models import Sequential\n",
        "from keras.layers import Dense, Dropout, Activation\n",
        "import numpy as np\n",
        "from dataset import load_hoda\n",
        "\n",
        "np.random.seed(123)  # for reproducibility\n",
        "\n",
        "# 2. Load pre-shuffled HODA data into train and test sets\n",
        "x_train_original, y_train_original, x_test_original, y_test_original = load_hoda()\n",
        "\n",
        "# 3. Preprocess input data\n",
        "''' 3.1: input data in numpy array format'''\n",
        "x_train = np.array(x_train_original)\n",
        "x_test = np.array(x_test_original)\n",
        "'''3.2 normalize our data values to the range [0, 1]'''\n",
        "x_train = x_train.astype('float32')\n",
        "x_test = x_test.astype('float32')\n",
        "x_train /= 255\n",
        "x_test /= 255\n",
        "\n",
        "# 4. Preprocess class labels\n",
        "y_train = keras.utils.to_categorical(y_train_original, num_classes=10)\n",
        "y_test = keras.utils.to_categorical(y_test_original, num_classes=10)\n",
        "\n",
        "# 5. Define model architecture\n",
        "model = Sequential()\n",
        "model.add(Dense(64, activation='relu', input_dim=25))\n",
        "model.add(Dense(10, activation='softmax'))\n",
        "\n",
        "# 6. Compile model\n",
        "model.compile(loss='categorical_crossentropy',\n",
        "              optimizer='rmsprop',\n",
        "              metrics=['accuracy'])\n",
        "\n",
        "# 7. Fit model on training data\n",
        "model.fit(x_train, y_train,\n",
        "          epochs=30,\n",
        "          batch_size=64)\n",
        "\n",
        "# 8. Evaluate model on test data\n",
        "loss, acc = model.evaluate(x_test, y_test)\n",
        "print('\\nTesting loss: %.2f, acc: %.2f%%'%(loss, acc))"
      ],
      "execution_count": null,
      "outputs": []
    },
    {
      "cell_type": "markdown",
      "metadata": {
        "id": "sKz3uYSwbfqU"
      },
      "source": [
        "<div class=\"alert alert-block alert-info\">\n",
        "<div style=\"direction:rtl;text-align:right;font-family:B Lotus, B Nazanin, Tahoma\"> دوره مقدماتی یادگیری عمیق<br>علیرضا اخوان پور<br>پنج شنبه، ۱۸ بهمن ۱۳۹۷<br>\n",
        "</div>\n",
        "<a href=\"http://class.vision\">Class.Vision</a> - <a href=\"http://AkhavanPour.ir\">AkhavanPour.ir</a> - <a href=\"https://github.com/Alireza-Akhavan/\">GitHub</a>\n",
        "\n",
        "</div>"
      ]
    },
    {
      "cell_type": "code",
      "metadata": {
        "id": "ym-uGRW7bfqV"
      },
      "source": [
        ""
      ],
      "execution_count": null,
      "outputs": []
    }
  ]
}